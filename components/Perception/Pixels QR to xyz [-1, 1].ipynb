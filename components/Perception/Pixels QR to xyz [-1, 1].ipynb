{
 "cells": [
  {
   "cell_type": "code",
   "execution_count": 1,
   "metadata": {},
   "outputs": [
    {
     "data": {
      "text/html": [
       "<div>\n",
       "<style scoped>\n",
       "    .dataframe tbody tr th:only-of-type {\n",
       "        vertical-align: middle;\n",
       "    }\n",
       "\n",
       "    .dataframe tbody tr th {\n",
       "        vertical-align: top;\n",
       "    }\n",
       "\n",
       "    .dataframe thead th {\n",
       "        text-align: right;\n",
       "    }\n",
       "</style>\n",
       "<table border=\"1\" class=\"dataframe\">\n",
       "  <thead>\n",
       "    <tr style=\"text-align: right;\">\n",
       "      <th></th>\n",
       "      <th>bottom_left_pixel_x</th>\n",
       "      <th>bottom_left_pixel_y</th>\n",
       "      <th>top_left_pixel_x</th>\n",
       "      <th>top_left_pixel_y</th>\n",
       "      <th>top_right_pixel_x</th>\n",
       "      <th>top_right_pixel_y</th>\n",
       "      <th>bottom_right_pixel_x</th>\n",
       "      <th>bottom_right_pixel_y</th>\n",
       "      <th>expected_top_left_board_x</th>\n",
       "      <th>expected_top_left_board_y</th>\n",
       "      <th>...</th>\n",
       "      <th>expected_top_left_board_z</th>\n",
       "      <th>expected_bottom_left_board_z</th>\n",
       "      <th>expected_top_right_board_z</th>\n",
       "      <th>expected_bottom_right_board_z</th>\n",
       "      <th>expected_center_board_x</th>\n",
       "      <th>expected_center_board_y</th>\n",
       "      <th>expected_center_board_z</th>\n",
       "      <th>expected_center_arm_x</th>\n",
       "      <th>expected_center_arm_y</th>\n",
       "      <th>expected_center_arm_z</th>\n",
       "    </tr>\n",
       "  </thead>\n",
       "  <tbody>\n",
       "    <tr>\n",
       "      <th>139</th>\n",
       "      <td>855.96400</td>\n",
       "      <td>215.62622</td>\n",
       "      <td>855.79755</td>\n",
       "      <td>352.41956</td>\n",
       "      <td>990.88007</td>\n",
       "      <td>348.49835</td>\n",
       "      <td>996.25410</td>\n",
       "      <td>217.73766</td>\n",
       "      <td>24.4</td>\n",
       "      <td>5.6</td>\n",
       "      <td>...</td>\n",
       "      <td>0.0</td>\n",
       "      <td>0.0</td>\n",
       "      <td>0.0</td>\n",
       "      <td>0.0</td>\n",
       "      <td>22.2</td>\n",
       "      <td>7.8</td>\n",
       "      <td>0.0</td>\n",
       "      <td>-15.8</td>\n",
       "      <td>2.2</td>\n",
       "      <td>0.0</td>\n",
       "    </tr>\n",
       "    <tr>\n",
       "      <th>140</th>\n",
       "      <td>854.19050</td>\n",
       "      <td>214.64260</td>\n",
       "      <td>854.04596</td>\n",
       "      <td>354.32460</td>\n",
       "      <td>990.68085</td>\n",
       "      <td>347.86860</td>\n",
       "      <td>994.66895</td>\n",
       "      <td>218.84343</td>\n",
       "      <td>24.4</td>\n",
       "      <td>5.6</td>\n",
       "      <td>...</td>\n",
       "      <td>0.0</td>\n",
       "      <td>0.0</td>\n",
       "      <td>0.0</td>\n",
       "      <td>0.0</td>\n",
       "      <td>22.2</td>\n",
       "      <td>7.8</td>\n",
       "      <td>0.0</td>\n",
       "      <td>-15.8</td>\n",
       "      <td>2.2</td>\n",
       "      <td>0.0</td>\n",
       "    </tr>\n",
       "    <tr>\n",
       "      <th>141</th>\n",
       "      <td>845.59485</td>\n",
       "      <td>205.62158</td>\n",
       "      <td>860.40350</td>\n",
       "      <td>346.44610</td>\n",
       "      <td>990.27216</td>\n",
       "      <td>348.59814</td>\n",
       "      <td>1001.51030</td>\n",
       "      <td>214.19170</td>\n",
       "      <td>24.4</td>\n",
       "      <td>5.6</td>\n",
       "      <td>...</td>\n",
       "      <td>0.0</td>\n",
       "      <td>0.0</td>\n",
       "      <td>0.0</td>\n",
       "      <td>0.0</td>\n",
       "      <td>22.2</td>\n",
       "      <td>7.8</td>\n",
       "      <td>0.0</td>\n",
       "      <td>-15.8</td>\n",
       "      <td>2.2</td>\n",
       "      <td>0.0</td>\n",
       "    </tr>\n",
       "    <tr>\n",
       "      <th>142</th>\n",
       "      <td>856.53516</td>\n",
       "      <td>216.66970</td>\n",
       "      <td>857.80480</td>\n",
       "      <td>349.66350</td>\n",
       "      <td>992.63070</td>\n",
       "      <td>349.93008</td>\n",
       "      <td>997.68130</td>\n",
       "      <td>217.14386</td>\n",
       "      <td>24.4</td>\n",
       "      <td>5.6</td>\n",
       "      <td>...</td>\n",
       "      <td>0.0</td>\n",
       "      <td>0.0</td>\n",
       "      <td>0.0</td>\n",
       "      <td>0.0</td>\n",
       "      <td>22.2</td>\n",
       "      <td>7.8</td>\n",
       "      <td>0.0</td>\n",
       "      <td>-15.8</td>\n",
       "      <td>2.2</td>\n",
       "      <td>0.0</td>\n",
       "    </tr>\n",
       "    <tr>\n",
       "      <th>143</th>\n",
       "      <td>856.41235</td>\n",
       "      <td>216.42474</td>\n",
       "      <td>859.61786</td>\n",
       "      <td>348.27300</td>\n",
       "      <td>994.50550</td>\n",
       "      <td>352.21555</td>\n",
       "      <td>998.37915</td>\n",
       "      <td>216.33070</td>\n",
       "      <td>24.4</td>\n",
       "      <td>5.6</td>\n",
       "      <td>...</td>\n",
       "      <td>0.0</td>\n",
       "      <td>0.0</td>\n",
       "      <td>0.0</td>\n",
       "      <td>0.0</td>\n",
       "      <td>22.2</td>\n",
       "      <td>7.8</td>\n",
       "      <td>0.0</td>\n",
       "      <td>-15.8</td>\n",
       "      <td>2.2</td>\n",
       "      <td>0.0</td>\n",
       "    </tr>\n",
       "  </tbody>\n",
       "</table>\n",
       "<p>5 rows × 26 columns</p>\n",
       "</div>"
      ],
      "text/plain": [
       "     bottom_left_pixel_x  bottom_left_pixel_y  top_left_pixel_x  \\\n",
       "139            855.96400            215.62622         855.79755   \n",
       "140            854.19050            214.64260         854.04596   \n",
       "141            845.59485            205.62158         860.40350   \n",
       "142            856.53516            216.66970         857.80480   \n",
       "143            856.41235            216.42474         859.61786   \n",
       "\n",
       "     top_left_pixel_y  top_right_pixel_x  top_right_pixel_y  \\\n",
       "139         352.41956          990.88007          348.49835   \n",
       "140         354.32460          990.68085          347.86860   \n",
       "141         346.44610          990.27216          348.59814   \n",
       "142         349.66350          992.63070          349.93008   \n",
       "143         348.27300          994.50550          352.21555   \n",
       "\n",
       "     bottom_right_pixel_x  bottom_right_pixel_y  expected_top_left_board_x  \\\n",
       "139             996.25410             217.73766                       24.4   \n",
       "140             994.66895             218.84343                       24.4   \n",
       "141            1001.51030             214.19170                       24.4   \n",
       "142             997.68130             217.14386                       24.4   \n",
       "143             998.37915             216.33070                       24.4   \n",
       "\n",
       "     expected_top_left_board_y          ...            \\\n",
       "139                        5.6          ...             \n",
       "140                        5.6          ...             \n",
       "141                        5.6          ...             \n",
       "142                        5.6          ...             \n",
       "143                        5.6          ...             \n",
       "\n",
       "     expected_top_left_board_z  expected_bottom_left_board_z  \\\n",
       "139                        0.0                           0.0   \n",
       "140                        0.0                           0.0   \n",
       "141                        0.0                           0.0   \n",
       "142                        0.0                           0.0   \n",
       "143                        0.0                           0.0   \n",
       "\n",
       "     expected_top_right_board_z  expected_bottom_right_board_z  \\\n",
       "139                         0.0                            0.0   \n",
       "140                         0.0                            0.0   \n",
       "141                         0.0                            0.0   \n",
       "142                         0.0                            0.0   \n",
       "143                         0.0                            0.0   \n",
       "\n",
       "     expected_center_board_x  expected_center_board_y  \\\n",
       "139                     22.2                      7.8   \n",
       "140                     22.2                      7.8   \n",
       "141                     22.2                      7.8   \n",
       "142                     22.2                      7.8   \n",
       "143                     22.2                      7.8   \n",
       "\n",
       "     expected_center_board_z  expected_center_arm_x  expected_center_arm_y  \\\n",
       "139                      0.0                  -15.8                    2.2   \n",
       "140                      0.0                  -15.8                    2.2   \n",
       "141                      0.0                  -15.8                    2.2   \n",
       "142                      0.0                  -15.8                    2.2   \n",
       "143                      0.0                  -15.8                    2.2   \n",
       "\n",
       "     expected_center_arm_z  \n",
       "139                    0.0  \n",
       "140                    0.0  \n",
       "141                    0.0  \n",
       "142                    0.0  \n",
       "143                    0.0  \n",
       "\n",
       "[5 rows x 26 columns]"
      ]
     },
     "execution_count": 1,
     "metadata": {},
     "output_type": "execute_result"
    }
   ],
   "source": [
    "import pandas as pd\n",
    "import numpy as np\n",
    "from sklearn.externals import joblib\n",
    "\n",
    "data_E = pd.read_csv(\"dataQr/qrE.csv\") \n",
    "\n",
    "point_E_top_left_board = (24.4, 5.6, 0.0)\n",
    "side_size = 4.4\n",
    "point_arm_starting = (20, -8, 0.0)\n",
    "\n",
    "expected_top_left_board_x = point_E_top_left_board[0]\n",
    "expected_top_left_board_y = point_E_top_left_board[1]\n",
    "\n",
    "data_E[\"expected_top_left_board_x\"] = expected_top_left_board_x\n",
    "data_E[\"expected_top_left_board_y\"] = expected_top_left_board_y\n",
    "data_E[\"expected_bottom_left_board_x\"] = expected_top_left_board_x\n",
    "data_E[\"expected_bottom_left_board_y\"] = expected_top_left_board_y + side_size\n",
    "data_E[\"expected_top_right_board_x\"] = expected_top_left_board_x - side_size\n",
    "data_E[\"expected_top_right_board_y\"] = expected_top_left_board_y\n",
    "data_E[\"expected_bottom_right_board_x\"] = expected_top_left_board_x - side_size\n",
    "data_E[\"expected_bottom_right_board_y\"] = expected_top_left_board_y + side_size\n",
    "\n",
    "data_E[\"expected_top_left_board_z\"] = point_E_top_left_board[2]\n",
    "data_E[\"expected_bottom_left_board_z\"] = point_E_top_left_board[2]\n",
    "data_E[\"expected_top_right_board_z\"] = point_E_top_left_board[2]\n",
    "data_E[\"expected_bottom_right_board_z\"] = point_E_top_left_board[2]\n",
    "\n",
    "data_E[\"expected_center_board_x\"] = expected_top_left_board_x - side_size/2\n",
    "data_E[\"expected_center_board_y\"] = expected_top_left_board_y + side_size/2\n",
    "data_E[\"expected_center_board_z\"] = point_E_top_left_board[2]\n",
    "\n",
    "data_E[\"expected_center_arm_x\"] = point_arm_starting[1] - (expected_top_left_board_y + side_size/2)\n",
    "data_E[\"expected_center_arm_y\"] = expected_top_left_board_x - side_size/2 - point_arm_starting[0]\n",
    "data_E[\"expected_center_arm_z\"] = point_arm_starting[2]\n",
    "\n",
    "data_E.tail(5)"
   ]
  },
  {
   "cell_type": "code",
   "execution_count": 2,
   "metadata": {},
   "outputs": [
    {
     "data": {
      "text/html": [
       "<div>\n",
       "<style scoped>\n",
       "    .dataframe tbody tr th:only-of-type {\n",
       "        vertical-align: middle;\n",
       "    }\n",
       "\n",
       "    .dataframe tbody tr th {\n",
       "        vertical-align: top;\n",
       "    }\n",
       "\n",
       "    .dataframe thead th {\n",
       "        text-align: right;\n",
       "    }\n",
       "</style>\n",
       "<table border=\"1\" class=\"dataframe\">\n",
       "  <thead>\n",
       "    <tr style=\"text-align: right;\">\n",
       "      <th></th>\n",
       "      <th>bottom_left_pixel_x</th>\n",
       "      <th>bottom_left_pixel_y</th>\n",
       "      <th>top_left_pixel_x</th>\n",
       "      <th>top_left_pixel_y</th>\n",
       "      <th>top_right_pixel_x</th>\n",
       "      <th>top_right_pixel_y</th>\n",
       "      <th>bottom_right_pixel_x</th>\n",
       "      <th>bottom_right_pixel_y</th>\n",
       "      <th>expected_top_left_board_x</th>\n",
       "      <th>expected_top_left_board_y</th>\n",
       "      <th>...</th>\n",
       "      <th>expected_top_left_board_z</th>\n",
       "      <th>expected_bottom_left_board_z</th>\n",
       "      <th>expected_top_right_board_z</th>\n",
       "      <th>expected_bottom_right_board_z</th>\n",
       "      <th>expected_center_board_x</th>\n",
       "      <th>expected_center_board_y</th>\n",
       "      <th>expected_center_board_z</th>\n",
       "      <th>expected_center_arm_x</th>\n",
       "      <th>expected_center_arm_y</th>\n",
       "      <th>expected_center_arm_z</th>\n",
       "    </tr>\n",
       "  </thead>\n",
       "  <tbody>\n",
       "    <tr>\n",
       "      <th>90</th>\n",
       "      <td>1386.7900</td>\n",
       "      <td>680.21330</td>\n",
       "      <td>1403.0869</td>\n",
       "      <td>842.1241</td>\n",
       "      <td>1544.4453</td>\n",
       "      <td>834.84610</td>\n",
       "      <td>1543.2697</td>\n",
       "      <td>693.43555</td>\n",
       "      <td>4.4</td>\n",
       "      <td>23.6</td>\n",
       "      <td>...</td>\n",
       "      <td>0.0</td>\n",
       "      <td>0.0</td>\n",
       "      <td>0.0</td>\n",
       "      <td>0.0</td>\n",
       "      <td>2.2</td>\n",
       "      <td>25.8</td>\n",
       "      <td>0.0</td>\n",
       "      <td>-33.8</td>\n",
       "      <td>-17.8</td>\n",
       "      <td>0.0</td>\n",
       "    </tr>\n",
       "    <tr>\n",
       "      <th>91</th>\n",
       "      <td>1399.3282</td>\n",
       "      <td>694.07060</td>\n",
       "      <td>1401.8728</td>\n",
       "      <td>843.4549</td>\n",
       "      <td>1556.1368</td>\n",
       "      <td>844.38550</td>\n",
       "      <td>1541.8231</td>\n",
       "      <td>694.74567</td>\n",
       "      <td>4.4</td>\n",
       "      <td>23.6</td>\n",
       "      <td>...</td>\n",
       "      <td>0.0</td>\n",
       "      <td>0.0</td>\n",
       "      <td>0.0</td>\n",
       "      <td>0.0</td>\n",
       "      <td>2.2</td>\n",
       "      <td>25.8</td>\n",
       "      <td>0.0</td>\n",
       "      <td>-33.8</td>\n",
       "      <td>-17.8</td>\n",
       "      <td>0.0</td>\n",
       "    </tr>\n",
       "    <tr>\n",
       "      <th>92</th>\n",
       "      <td>1390.9973</td>\n",
       "      <td>686.17860</td>\n",
       "      <td>1403.6089</td>\n",
       "      <td>842.9651</td>\n",
       "      <td>1547.1604</td>\n",
       "      <td>836.20245</td>\n",
       "      <td>1542.3191</td>\n",
       "      <td>693.51355</td>\n",
       "      <td>4.4</td>\n",
       "      <td>23.6</td>\n",
       "      <td>...</td>\n",
       "      <td>0.0</td>\n",
       "      <td>0.0</td>\n",
       "      <td>0.0</td>\n",
       "      <td>0.0</td>\n",
       "      <td>2.2</td>\n",
       "      <td>25.8</td>\n",
       "      <td>0.0</td>\n",
       "      <td>-33.8</td>\n",
       "      <td>-17.8</td>\n",
       "      <td>0.0</td>\n",
       "    </tr>\n",
       "    <tr>\n",
       "      <th>93</th>\n",
       "      <td>1395.3796</td>\n",
       "      <td>689.80676</td>\n",
       "      <td>1399.3779</td>\n",
       "      <td>845.8674</td>\n",
       "      <td>1554.5514</td>\n",
       "      <td>843.43494</td>\n",
       "      <td>1537.4799</td>\n",
       "      <td>698.99426</td>\n",
       "      <td>4.4</td>\n",
       "      <td>23.6</td>\n",
       "      <td>...</td>\n",
       "      <td>0.0</td>\n",
       "      <td>0.0</td>\n",
       "      <td>0.0</td>\n",
       "      <td>0.0</td>\n",
       "      <td>2.2</td>\n",
       "      <td>25.8</td>\n",
       "      <td>0.0</td>\n",
       "      <td>-33.8</td>\n",
       "      <td>-17.8</td>\n",
       "      <td>0.0</td>\n",
       "    </tr>\n",
       "    <tr>\n",
       "      <th>94</th>\n",
       "      <td>1393.0947</td>\n",
       "      <td>686.96075</td>\n",
       "      <td>1403.0493</td>\n",
       "      <td>842.3679</td>\n",
       "      <td>1550.0833</td>\n",
       "      <td>839.76600</td>\n",
       "      <td>1542.5555</td>\n",
       "      <td>693.73694</td>\n",
       "      <td>4.4</td>\n",
       "      <td>23.6</td>\n",
       "      <td>...</td>\n",
       "      <td>0.0</td>\n",
       "      <td>0.0</td>\n",
       "      <td>0.0</td>\n",
       "      <td>0.0</td>\n",
       "      <td>2.2</td>\n",
       "      <td>25.8</td>\n",
       "      <td>0.0</td>\n",
       "      <td>-33.8</td>\n",
       "      <td>-17.8</td>\n",
       "      <td>0.0</td>\n",
       "    </tr>\n",
       "  </tbody>\n",
       "</table>\n",
       "<p>5 rows × 26 columns</p>\n",
       "</div>"
      ],
      "text/plain": [
       "    bottom_left_pixel_x  bottom_left_pixel_y  top_left_pixel_x  \\\n",
       "90            1386.7900            680.21330         1403.0869   \n",
       "91            1399.3282            694.07060         1401.8728   \n",
       "92            1390.9973            686.17860         1403.6089   \n",
       "93            1395.3796            689.80676         1399.3779   \n",
       "94            1393.0947            686.96075         1403.0493   \n",
       "\n",
       "    top_left_pixel_y  top_right_pixel_x  top_right_pixel_y  \\\n",
       "90          842.1241          1544.4453          834.84610   \n",
       "91          843.4549          1556.1368          844.38550   \n",
       "92          842.9651          1547.1604          836.20245   \n",
       "93          845.8674          1554.5514          843.43494   \n",
       "94          842.3679          1550.0833          839.76600   \n",
       "\n",
       "    bottom_right_pixel_x  bottom_right_pixel_y  expected_top_left_board_x  \\\n",
       "90             1543.2697             693.43555                        4.4   \n",
       "91             1541.8231             694.74567                        4.4   \n",
       "92             1542.3191             693.51355                        4.4   \n",
       "93             1537.4799             698.99426                        4.4   \n",
       "94             1542.5555             693.73694                        4.4   \n",
       "\n",
       "    expected_top_left_board_y          ...            \\\n",
       "90                       23.6          ...             \n",
       "91                       23.6          ...             \n",
       "92                       23.6          ...             \n",
       "93                       23.6          ...             \n",
       "94                       23.6          ...             \n",
       "\n",
       "    expected_top_left_board_z  expected_bottom_left_board_z  \\\n",
       "90                        0.0                           0.0   \n",
       "91                        0.0                           0.0   \n",
       "92                        0.0                           0.0   \n",
       "93                        0.0                           0.0   \n",
       "94                        0.0                           0.0   \n",
       "\n",
       "    expected_top_right_board_z  expected_bottom_right_board_z  \\\n",
       "90                         0.0                            0.0   \n",
       "91                         0.0                            0.0   \n",
       "92                         0.0                            0.0   \n",
       "93                         0.0                            0.0   \n",
       "94                         0.0                            0.0   \n",
       "\n",
       "    expected_center_board_x  expected_center_board_y  expected_center_board_z  \\\n",
       "90                      2.2                     25.8                      0.0   \n",
       "91                      2.2                     25.8                      0.0   \n",
       "92                      2.2                     25.8                      0.0   \n",
       "93                      2.2                     25.8                      0.0   \n",
       "94                      2.2                     25.8                      0.0   \n",
       "\n",
       "    expected_center_arm_x  expected_center_arm_y  expected_center_arm_z  \n",
       "90                  -33.8                  -17.8                    0.0  \n",
       "91                  -33.8                  -17.8                    0.0  \n",
       "92                  -33.8                  -17.8                    0.0  \n",
       "93                  -33.8                  -17.8                    0.0  \n",
       "94                  -33.8                  -17.8                    0.0  \n",
       "\n",
       "[5 rows x 26 columns]"
      ]
     },
     "execution_count": 2,
     "metadata": {},
     "output_type": "execute_result"
    }
   ],
   "source": [
    "data_D = pd.read_csv(\"dataQr/qrD.csv\") \n",
    "\n",
    "point_E_top_left_board = (4.4, 23.6, 0.0)\n",
    "side_size = 4.4\n",
    "point_arm_starting = (20, -8, 0.0)\n",
    "\n",
    "expected_top_left_board_x = point_E_top_left_board[0]\n",
    "expected_top_left_board_y = point_E_top_left_board[1]\n",
    "\n",
    "data_D[\"expected_top_left_board_x\"] = expected_top_left_board_x\n",
    "data_D[\"expected_top_left_board_y\"] = expected_top_left_board_y\n",
    "data_D[\"expected_bottom_left_board_x\"] = expected_top_left_board_x\n",
    "data_D[\"expected_bottom_left_board_y\"] = expected_top_left_board_y + side_size\n",
    "data_D[\"expected_top_right_board_x\"] = expected_top_left_board_x - side_size\n",
    "data_D[\"expected_top_right_board_y\"] = expected_top_left_board_y\n",
    "data_D[\"expected_bottom_right_board_x\"] = expected_top_left_board_x - side_size\n",
    "data_D[\"expected_bottom_right_board_y\"] = expected_top_left_board_y + side_size\n",
    "\n",
    "data_D[\"expected_top_left_board_z\"] = point_E_top_left_board[2]\n",
    "data_D[\"expected_bottom_left_board_z\"] = point_E_top_left_board[2]\n",
    "data_D[\"expected_top_right_board_z\"] = point_E_top_left_board[2]\n",
    "data_D[\"expected_bottom_right_board_z\"] = point_E_top_left_board[2]\n",
    "\n",
    "data_D[\"expected_center_board_x\"] = expected_top_left_board_x - side_size/2\n",
    "data_D[\"expected_center_board_y\"] = expected_top_left_board_y + side_size/2\n",
    "data_D[\"expected_center_board_z\"] = point_E_top_left_board[2]\n",
    "\n",
    "data_D[\"expected_center_arm_x\"] = point_arm_starting[1] - (expected_top_left_board_y + side_size/2)\n",
    "data_D[\"expected_center_arm_y\"] = expected_top_left_board_x - side_size/2 - point_arm_starting[0]\n",
    "data_D[\"expected_center_arm_z\"] = point_arm_starting[2]\n",
    "\n",
    "data_D.tail(5)"
   ]
  },
  {
   "cell_type": "code",
   "execution_count": 3,
   "metadata": {},
   "outputs": [
    {
     "data": {
      "text/html": [
       "<div>\n",
       "<style scoped>\n",
       "    .dataframe tbody tr th:only-of-type {\n",
       "        vertical-align: middle;\n",
       "    }\n",
       "\n",
       "    .dataframe tbody tr th {\n",
       "        vertical-align: top;\n",
       "    }\n",
       "\n",
       "    .dataframe thead th {\n",
       "        text-align: right;\n",
       "    }\n",
       "</style>\n",
       "<table border=\"1\" class=\"dataframe\">\n",
       "  <thead>\n",
       "    <tr style=\"text-align: right;\">\n",
       "      <th></th>\n",
       "      <th>bottom_left_pixel_x</th>\n",
       "      <th>bottom_left_pixel_y</th>\n",
       "      <th>top_left_pixel_x</th>\n",
       "      <th>top_left_pixel_y</th>\n",
       "      <th>top_right_pixel_x</th>\n",
       "      <th>top_right_pixel_y</th>\n",
       "      <th>bottom_right_pixel_x</th>\n",
       "      <th>bottom_right_pixel_y</th>\n",
       "      <th>expected_top_left_board_x</th>\n",
       "      <th>expected_top_left_board_y</th>\n",
       "      <th>...</th>\n",
       "      <th>expected_top_left_board_z</th>\n",
       "      <th>expected_bottom_left_board_z</th>\n",
       "      <th>expected_top_right_board_z</th>\n",
       "      <th>expected_bottom_right_board_z</th>\n",
       "      <th>expected_center_board_x</th>\n",
       "      <th>expected_center_board_y</th>\n",
       "      <th>expected_center_board_z</th>\n",
       "      <th>expected_center_arm_x</th>\n",
       "      <th>expected_center_arm_y</th>\n",
       "      <th>expected_center_arm_z</th>\n",
       "    </tr>\n",
       "  </thead>\n",
       "  <tbody>\n",
       "    <tr>\n",
       "      <th>113</th>\n",
       "      <td>418.69928</td>\n",
       "      <td>682.94940</td>\n",
       "      <td>407.74414</td>\n",
       "      <td>830.7929</td>\n",
       "      <td>556.66736</td>\n",
       "      <td>833.37320</td>\n",
       "      <td>569.93800</td>\n",
       "      <td>681.95630</td>\n",
       "      <td>40.0</td>\n",
       "      <td>23.6</td>\n",
       "      <td>...</td>\n",
       "      <td>0.0</td>\n",
       "      <td>0.0</td>\n",
       "      <td>0.0</td>\n",
       "      <td>0.0</td>\n",
       "      <td>37.8</td>\n",
       "      <td>25.8</td>\n",
       "      <td>0.0</td>\n",
       "      <td>-33.8</td>\n",
       "      <td>17.8</td>\n",
       "      <td>0.0</td>\n",
       "    </tr>\n",
       "    <tr>\n",
       "      <th>114</th>\n",
       "      <td>420.34180</td>\n",
       "      <td>685.87280</td>\n",
       "      <td>403.27875</td>\n",
       "      <td>834.5892</td>\n",
       "      <td>560.44385</td>\n",
       "      <td>835.84534</td>\n",
       "      <td>567.04160</td>\n",
       "      <td>684.44080</td>\n",
       "      <td>40.0</td>\n",
       "      <td>23.6</td>\n",
       "      <td>...</td>\n",
       "      <td>0.0</td>\n",
       "      <td>0.0</td>\n",
       "      <td>0.0</td>\n",
       "      <td>0.0</td>\n",
       "      <td>37.8</td>\n",
       "      <td>25.8</td>\n",
       "      <td>0.0</td>\n",
       "      <td>-33.8</td>\n",
       "      <td>17.8</td>\n",
       "      <td>0.0</td>\n",
       "    </tr>\n",
       "    <tr>\n",
       "      <th>115</th>\n",
       "      <td>420.39542</td>\n",
       "      <td>687.86847</td>\n",
       "      <td>403.49225</td>\n",
       "      <td>835.2370</td>\n",
       "      <td>561.09640</td>\n",
       "      <td>832.96730</td>\n",
       "      <td>565.02540</td>\n",
       "      <td>685.66580</td>\n",
       "      <td>40.0</td>\n",
       "      <td>23.6</td>\n",
       "      <td>...</td>\n",
       "      <td>0.0</td>\n",
       "      <td>0.0</td>\n",
       "      <td>0.0</td>\n",
       "      <td>0.0</td>\n",
       "      <td>37.8</td>\n",
       "      <td>25.8</td>\n",
       "      <td>0.0</td>\n",
       "      <td>-33.8</td>\n",
       "      <td>17.8</td>\n",
       "      <td>0.0</td>\n",
       "    </tr>\n",
       "    <tr>\n",
       "      <th>116</th>\n",
       "      <td>420.83160</td>\n",
       "      <td>685.91315</td>\n",
       "      <td>404.20294</td>\n",
       "      <td>834.4109</td>\n",
       "      <td>558.85706</td>\n",
       "      <td>834.29680</td>\n",
       "      <td>566.40533</td>\n",
       "      <td>684.08655</td>\n",
       "      <td>40.0</td>\n",
       "      <td>23.6</td>\n",
       "      <td>...</td>\n",
       "      <td>0.0</td>\n",
       "      <td>0.0</td>\n",
       "      <td>0.0</td>\n",
       "      <td>0.0</td>\n",
       "      <td>37.8</td>\n",
       "      <td>25.8</td>\n",
       "      <td>0.0</td>\n",
       "      <td>-33.8</td>\n",
       "      <td>17.8</td>\n",
       "      <td>0.0</td>\n",
       "    </tr>\n",
       "    <tr>\n",
       "      <th>117</th>\n",
       "      <td>424.99880</td>\n",
       "      <td>691.00775</td>\n",
       "      <td>400.05720</td>\n",
       "      <td>837.6203</td>\n",
       "      <td>566.25950</td>\n",
       "      <td>840.93810</td>\n",
       "      <td>564.43570</td>\n",
       "      <td>685.89680</td>\n",
       "      <td>40.0</td>\n",
       "      <td>23.6</td>\n",
       "      <td>...</td>\n",
       "      <td>0.0</td>\n",
       "      <td>0.0</td>\n",
       "      <td>0.0</td>\n",
       "      <td>0.0</td>\n",
       "      <td>37.8</td>\n",
       "      <td>25.8</td>\n",
       "      <td>0.0</td>\n",
       "      <td>-33.8</td>\n",
       "      <td>17.8</td>\n",
       "      <td>0.0</td>\n",
       "    </tr>\n",
       "  </tbody>\n",
       "</table>\n",
       "<p>5 rows × 26 columns</p>\n",
       "</div>"
      ],
      "text/plain": [
       "     bottom_left_pixel_x  bottom_left_pixel_y  top_left_pixel_x  \\\n",
       "113            418.69928            682.94940         407.74414   \n",
       "114            420.34180            685.87280         403.27875   \n",
       "115            420.39542            687.86847         403.49225   \n",
       "116            420.83160            685.91315         404.20294   \n",
       "117            424.99880            691.00775         400.05720   \n",
       "\n",
       "     top_left_pixel_y  top_right_pixel_x  top_right_pixel_y  \\\n",
       "113          830.7929          556.66736          833.37320   \n",
       "114          834.5892          560.44385          835.84534   \n",
       "115          835.2370          561.09640          832.96730   \n",
       "116          834.4109          558.85706          834.29680   \n",
       "117          837.6203          566.25950          840.93810   \n",
       "\n",
       "     bottom_right_pixel_x  bottom_right_pixel_y  expected_top_left_board_x  \\\n",
       "113             569.93800             681.95630                       40.0   \n",
       "114             567.04160             684.44080                       40.0   \n",
       "115             565.02540             685.66580                       40.0   \n",
       "116             566.40533             684.08655                       40.0   \n",
       "117             564.43570             685.89680                       40.0   \n",
       "\n",
       "     expected_top_left_board_y          ...            \\\n",
       "113                       23.6          ...             \n",
       "114                       23.6          ...             \n",
       "115                       23.6          ...             \n",
       "116                       23.6          ...             \n",
       "117                       23.6          ...             \n",
       "\n",
       "     expected_top_left_board_z  expected_bottom_left_board_z  \\\n",
       "113                        0.0                           0.0   \n",
       "114                        0.0                           0.0   \n",
       "115                        0.0                           0.0   \n",
       "116                        0.0                           0.0   \n",
       "117                        0.0                           0.0   \n",
       "\n",
       "     expected_top_right_board_z  expected_bottom_right_board_z  \\\n",
       "113                         0.0                            0.0   \n",
       "114                         0.0                            0.0   \n",
       "115                         0.0                            0.0   \n",
       "116                         0.0                            0.0   \n",
       "117                         0.0                            0.0   \n",
       "\n",
       "     expected_center_board_x  expected_center_board_y  \\\n",
       "113                     37.8                     25.8   \n",
       "114                     37.8                     25.8   \n",
       "115                     37.8                     25.8   \n",
       "116                     37.8                     25.8   \n",
       "117                     37.8                     25.8   \n",
       "\n",
       "     expected_center_board_z  expected_center_arm_x  expected_center_arm_y  \\\n",
       "113                      0.0                  -33.8                   17.8   \n",
       "114                      0.0                  -33.8                   17.8   \n",
       "115                      0.0                  -33.8                   17.8   \n",
       "116                      0.0                  -33.8                   17.8   \n",
       "117                      0.0                  -33.8                   17.8   \n",
       "\n",
       "     expected_center_arm_z  \n",
       "113                    0.0  \n",
       "114                    0.0  \n",
       "115                    0.0  \n",
       "116                    0.0  \n",
       "117                    0.0  \n",
       "\n",
       "[5 rows x 26 columns]"
      ]
     },
     "execution_count": 3,
     "metadata": {},
     "output_type": "execute_result"
    }
   ],
   "source": [
    "data_C = pd.read_csv(\"dataQr/qrC.csv\") \n",
    "\n",
    "point_E_top_left_board = (40.0, 23.6, 0.0)\n",
    "side_size = 4.4\n",
    "point_arm_starting = (20, -8, 0.0)\n",
    "\n",
    "expected_top_left_board_x = point_E_top_left_board[0]\n",
    "expected_top_left_board_y = point_E_top_left_board[1]\n",
    "\n",
    "data_C[\"expected_top_left_board_x\"] = expected_top_left_board_x\n",
    "data_C[\"expected_top_left_board_y\"] = expected_top_left_board_y\n",
    "data_C[\"expected_bottom_left_board_x\"] = expected_top_left_board_x\n",
    "data_C[\"expected_bottom_left_board_y\"] = expected_top_left_board_y + side_size\n",
    "data_C[\"expected_top_right_board_x\"] = expected_top_left_board_x - side_size\n",
    "data_C[\"expected_top_right_board_y\"] = expected_top_left_board_y\n",
    "data_C[\"expected_bottom_right_board_x\"] = expected_top_left_board_x - side_size\n",
    "data_C[\"expected_bottom_right_board_y\"] = expected_top_left_board_y + side_size\n",
    "\n",
    "\n",
    "data_C[\"expected_top_left_board_z\"] = point_E_top_left_board[2]\n",
    "data_C[\"expected_bottom_left_board_z\"] = point_E_top_left_board[2]\n",
    "data_C[\"expected_top_right_board_z\"] = point_E_top_left_board[2]\n",
    "data_C[\"expected_bottom_right_board_z\"] = point_E_top_left_board[2]\n",
    "\n",
    "data_C[\"expected_center_board_x\"] = expected_top_left_board_x - side_size/2\n",
    "data_C[\"expected_center_board_y\"] = expected_top_left_board_y + side_size/2\n",
    "data_C[\"expected_center_board_z\"] = point_E_top_left_board[2]\n",
    "\n",
    "data_C[\"expected_center_arm_x\"] = point_arm_starting[1] - (expected_top_left_board_y + side_size/2)\n",
    "data_C[\"expected_center_arm_y\"] = expected_top_left_board_x - side_size/2 - point_arm_starting[0]\n",
    "data_C[\"expected_center_arm_z\"] = point_arm_starting[2]\n",
    "\n",
    "data_C.tail(5)"
   ]
  },
  {
   "cell_type": "code",
   "execution_count": 4,
   "metadata": {},
   "outputs": [
    {
     "data": {
      "text/html": [
       "<div>\n",
       "<style scoped>\n",
       "    .dataframe tbody tr th:only-of-type {\n",
       "        vertical-align: middle;\n",
       "    }\n",
       "\n",
       "    .dataframe tbody tr th {\n",
       "        vertical-align: top;\n",
       "    }\n",
       "\n",
       "    .dataframe thead th {\n",
       "        text-align: right;\n",
       "    }\n",
       "</style>\n",
       "<table border=\"1\" class=\"dataframe\">\n",
       "  <thead>\n",
       "    <tr style=\"text-align: right;\">\n",
       "      <th></th>\n",
       "      <th>bottom_left_pixel_x</th>\n",
       "      <th>bottom_left_pixel_y</th>\n",
       "      <th>top_left_pixel_x</th>\n",
       "      <th>top_left_pixel_y</th>\n",
       "      <th>top_right_pixel_x</th>\n",
       "      <th>top_right_pixel_y</th>\n",
       "      <th>bottom_right_pixel_x</th>\n",
       "      <th>bottom_right_pixel_y</th>\n",
       "      <th>expected_top_left_board_x</th>\n",
       "      <th>expected_top_left_board_y</th>\n",
       "      <th>...</th>\n",
       "      <th>expected_top_left_board_z</th>\n",
       "      <th>expected_bottom_left_board_z</th>\n",
       "      <th>expected_top_right_board_z</th>\n",
       "      <th>expected_bottom_right_board_z</th>\n",
       "      <th>expected_center_board_x</th>\n",
       "      <th>expected_center_board_y</th>\n",
       "      <th>expected_center_board_z</th>\n",
       "      <th>expected_center_arm_x</th>\n",
       "      <th>expected_center_arm_y</th>\n",
       "      <th>expected_center_arm_z</th>\n",
       "    </tr>\n",
       "  </thead>\n",
       "  <tbody>\n",
       "    <tr>\n",
       "      <th>139</th>\n",
       "      <td>1228.6125</td>\n",
       "      <td>119.448550</td>\n",
       "      <td>1221.4362</td>\n",
       "      <td>330.83650</td>\n",
       "      <td>1450.7053</td>\n",
       "      <td>335.21290</td>\n",
       "      <td>1441.7902</td>\n",
       "      <td>124.325660</td>\n",
       "      <td>14.4</td>\n",
       "      <td>7.6</td>\n",
       "      <td>...</td>\n",
       "      <td>19.6</td>\n",
       "      <td>19.6</td>\n",
       "      <td>19.6</td>\n",
       "      <td>19.6</td>\n",
       "      <td>12.2</td>\n",
       "      <td>9.8</td>\n",
       "      <td>19.6</td>\n",
       "      <td>-17.8</td>\n",
       "      <td>-7.8</td>\n",
       "      <td>0.0</td>\n",
       "    </tr>\n",
       "    <tr>\n",
       "      <th>140</th>\n",
       "      <td>1217.6196</td>\n",
       "      <td>106.367180</td>\n",
       "      <td>1222.7911</td>\n",
       "      <td>332.25480</td>\n",
       "      <td>1441.7424</td>\n",
       "      <td>329.64180</td>\n",
       "      <td>1437.5314</td>\n",
       "      <td>127.995186</td>\n",
       "      <td>14.4</td>\n",
       "      <td>7.6</td>\n",
       "      <td>...</td>\n",
       "      <td>19.6</td>\n",
       "      <td>19.6</td>\n",
       "      <td>19.6</td>\n",
       "      <td>19.6</td>\n",
       "      <td>12.2</td>\n",
       "      <td>9.8</td>\n",
       "      <td>19.6</td>\n",
       "      <td>-17.8</td>\n",
       "      <td>-7.8</td>\n",
       "      <td>0.0</td>\n",
       "    </tr>\n",
       "    <tr>\n",
       "      <th>141</th>\n",
       "      <td>1218.8506</td>\n",
       "      <td>113.941710</td>\n",
       "      <td>1232.1337</td>\n",
       "      <td>324.01114</td>\n",
       "      <td>1447.1556</td>\n",
       "      <td>330.22467</td>\n",
       "      <td>1447.6224</td>\n",
       "      <td>115.381980</td>\n",
       "      <td>14.4</td>\n",
       "      <td>7.6</td>\n",
       "      <td>...</td>\n",
       "      <td>19.6</td>\n",
       "      <td>19.6</td>\n",
       "      <td>19.6</td>\n",
       "      <td>19.6</td>\n",
       "      <td>12.2</td>\n",
       "      <td>9.8</td>\n",
       "      <td>19.6</td>\n",
       "      <td>-17.8</td>\n",
       "      <td>-7.8</td>\n",
       "      <td>0.0</td>\n",
       "    </tr>\n",
       "    <tr>\n",
       "      <th>142</th>\n",
       "      <td>1220.7085</td>\n",
       "      <td>114.351160</td>\n",
       "      <td>1222.6727</td>\n",
       "      <td>332.92640</td>\n",
       "      <td>1446.5781</td>\n",
       "      <td>330.19537</td>\n",
       "      <td>1443.1937</td>\n",
       "      <td>121.210530</td>\n",
       "      <td>14.4</td>\n",
       "      <td>7.6</td>\n",
       "      <td>...</td>\n",
       "      <td>19.6</td>\n",
       "      <td>19.6</td>\n",
       "      <td>19.6</td>\n",
       "      <td>19.6</td>\n",
       "      <td>12.2</td>\n",
       "      <td>9.8</td>\n",
       "      <td>19.6</td>\n",
       "      <td>-17.8</td>\n",
       "      <td>-7.8</td>\n",
       "      <td>0.0</td>\n",
       "    </tr>\n",
       "    <tr>\n",
       "      <th>143</th>\n",
       "      <td>1217.4568</td>\n",
       "      <td>110.448265</td>\n",
       "      <td>1228.2416</td>\n",
       "      <td>328.15744</td>\n",
       "      <td>1445.6805</td>\n",
       "      <td>330.14197</td>\n",
       "      <td>1445.5535</td>\n",
       "      <td>117.912680</td>\n",
       "      <td>14.4</td>\n",
       "      <td>7.6</td>\n",
       "      <td>...</td>\n",
       "      <td>19.6</td>\n",
       "      <td>19.6</td>\n",
       "      <td>19.6</td>\n",
       "      <td>19.6</td>\n",
       "      <td>12.2</td>\n",
       "      <td>9.8</td>\n",
       "      <td>19.6</td>\n",
       "      <td>-17.8</td>\n",
       "      <td>-7.8</td>\n",
       "      <td>0.0</td>\n",
       "    </tr>\n",
       "  </tbody>\n",
       "</table>\n",
       "<p>5 rows × 26 columns</p>\n",
       "</div>"
      ],
      "text/plain": [
       "     bottom_left_pixel_x  bottom_left_pixel_y  top_left_pixel_x  \\\n",
       "139            1228.6125           119.448550         1221.4362   \n",
       "140            1217.6196           106.367180         1222.7911   \n",
       "141            1218.8506           113.941710         1232.1337   \n",
       "142            1220.7085           114.351160         1222.6727   \n",
       "143            1217.4568           110.448265         1228.2416   \n",
       "\n",
       "     top_left_pixel_y  top_right_pixel_x  top_right_pixel_y  \\\n",
       "139         330.83650          1450.7053          335.21290   \n",
       "140         332.25480          1441.7424          329.64180   \n",
       "141         324.01114          1447.1556          330.22467   \n",
       "142         332.92640          1446.5781          330.19537   \n",
       "143         328.15744          1445.6805          330.14197   \n",
       "\n",
       "     bottom_right_pixel_x  bottom_right_pixel_y  expected_top_left_board_x  \\\n",
       "139             1441.7902            124.325660                       14.4   \n",
       "140             1437.5314            127.995186                       14.4   \n",
       "141             1447.6224            115.381980                       14.4   \n",
       "142             1443.1937            121.210530                       14.4   \n",
       "143             1445.5535            117.912680                       14.4   \n",
       "\n",
       "     expected_top_left_board_y          ...            \\\n",
       "139                        7.6          ...             \n",
       "140                        7.6          ...             \n",
       "141                        7.6          ...             \n",
       "142                        7.6          ...             \n",
       "143                        7.6          ...             \n",
       "\n",
       "     expected_top_left_board_z  expected_bottom_left_board_z  \\\n",
       "139                       19.6                          19.6   \n",
       "140                       19.6                          19.6   \n",
       "141                       19.6                          19.6   \n",
       "142                       19.6                          19.6   \n",
       "143                       19.6                          19.6   \n",
       "\n",
       "     expected_top_right_board_z  expected_bottom_right_board_z  \\\n",
       "139                        19.6                           19.6   \n",
       "140                        19.6                           19.6   \n",
       "141                        19.6                           19.6   \n",
       "142                        19.6                           19.6   \n",
       "143                        19.6                           19.6   \n",
       "\n",
       "     expected_center_board_x  expected_center_board_y  \\\n",
       "139                     12.2                      9.8   \n",
       "140                     12.2                      9.8   \n",
       "141                     12.2                      9.8   \n",
       "142                     12.2                      9.8   \n",
       "143                     12.2                      9.8   \n",
       "\n",
       "     expected_center_board_z  expected_center_arm_x  expected_center_arm_y  \\\n",
       "139                     19.6                  -17.8                   -7.8   \n",
       "140                     19.6                  -17.8                   -7.8   \n",
       "141                     19.6                  -17.8                   -7.8   \n",
       "142                     19.6                  -17.8                   -7.8   \n",
       "143                     19.6                  -17.8                   -7.8   \n",
       "\n",
       "     expected_center_arm_z  \n",
       "139                    0.0  \n",
       "140                    0.0  \n",
       "141                    0.0  \n",
       "142                    0.0  \n",
       "143                    0.0  \n",
       "\n",
       "[5 rows x 26 columns]"
      ]
     },
     "execution_count": 4,
     "metadata": {},
     "output_type": "execute_result"
    }
   ],
   "source": [
    "data_F = pd.read_csv(\"dataQr/qrF.csv\") \n",
    "\n",
    "point_E_top_left_board = (14.4, 7.6, 19.6)\n",
    "side_size = 4.4\n",
    "point_arm_starting = (20, -8, 0.0)\n",
    "\n",
    "expected_top_left_board_x = point_E_top_left_board[0]\n",
    "expected_top_left_board_y = point_E_top_left_board[1]\n",
    "\n",
    "data_F[\"expected_top_left_board_x\"] = expected_top_left_board_x\n",
    "data_F[\"expected_top_left_board_y\"] = expected_top_left_board_y\n",
    "data_F[\"expected_bottom_left_board_x\"] = expected_top_left_board_x\n",
    "data_F[\"expected_bottom_left_board_y\"] = expected_top_left_board_y + side_size\n",
    "data_F[\"expected_top_right_board_x\"] = expected_top_left_board_x - side_size\n",
    "data_F[\"expected_top_right_board_y\"] = expected_top_left_board_y\n",
    "data_F[\"expected_bottom_right_board_x\"] = expected_top_left_board_x - side_size\n",
    "data_F[\"expected_bottom_right_board_y\"] = expected_top_left_board_y + side_size\n",
    "\n",
    "\n",
    "data_F[\"expected_top_left_board_z\"] = point_E_top_left_board[2]\n",
    "data_F[\"expected_bottom_left_board_z\"] = point_E_top_left_board[2]\n",
    "data_F[\"expected_top_right_board_z\"] = point_E_top_left_board[2]\n",
    "data_F[\"expected_bottom_right_board_z\"] = point_E_top_left_board[2]\n",
    "\n",
    "data_F[\"expected_center_board_x\"] = expected_top_left_board_x - side_size/2\n",
    "data_F[\"expected_center_board_y\"] = expected_top_left_board_y + side_size/2\n",
    "data_F[\"expected_center_board_z\"] = point_E_top_left_board[2]\n",
    "\n",
    "data_F[\"expected_center_arm_x\"] = point_arm_starting[1] - (expected_top_left_board_y + side_size/2)\n",
    "data_F[\"expected_center_arm_y\"] = expected_top_left_board_x - side_size/2 - point_arm_starting[0]\n",
    "data_F[\"expected_center_arm_z\"] = point_arm_starting[2]\n",
    "\n",
    "data_F.tail(5)"
   ]
  },
  {
   "cell_type": "code",
   "execution_count": 5,
   "metadata": {},
   "outputs": [
    {
     "data": {
      "text/html": [
       "<div>\n",
       "<style scoped>\n",
       "    .dataframe tbody tr th:only-of-type {\n",
       "        vertical-align: middle;\n",
       "    }\n",
       "\n",
       "    .dataframe tbody tr th {\n",
       "        vertical-align: top;\n",
       "    }\n",
       "\n",
       "    .dataframe thead th {\n",
       "        text-align: right;\n",
       "    }\n",
       "</style>\n",
       "<table border=\"1\" class=\"dataframe\">\n",
       "  <thead>\n",
       "    <tr style=\"text-align: right;\">\n",
       "      <th></th>\n",
       "      <th>bottom_left_pixel_x</th>\n",
       "      <th>bottom_left_pixel_y</th>\n",
       "      <th>top_left_pixel_x</th>\n",
       "      <th>top_left_pixel_y</th>\n",
       "      <th>top_right_pixel_x</th>\n",
       "      <th>top_right_pixel_y</th>\n",
       "      <th>bottom_right_pixel_x</th>\n",
       "      <th>bottom_right_pixel_y</th>\n",
       "      <th>expected_top_left_board_x</th>\n",
       "      <th>expected_top_left_board_y</th>\n",
       "      <th>...</th>\n",
       "      <th>expected_top_left_board_z</th>\n",
       "      <th>expected_bottom_left_board_z</th>\n",
       "      <th>expected_top_right_board_z</th>\n",
       "      <th>expected_bottom_right_board_z</th>\n",
       "      <th>expected_center_board_x</th>\n",
       "      <th>expected_center_board_y</th>\n",
       "      <th>expected_center_board_z</th>\n",
       "      <th>expected_center_arm_x</th>\n",
       "      <th>expected_center_arm_y</th>\n",
       "      <th>expected_center_arm_z</th>\n",
       "    </tr>\n",
       "  </thead>\n",
       "  <tbody>\n",
       "    <tr>\n",
       "      <th>309</th>\n",
       "      <td>989.83905</td>\n",
       "      <td>401.94855</td>\n",
       "      <td>995.25287</td>\n",
       "      <td>579.09330</td>\n",
       "      <td>1165.7173</td>\n",
       "      <td>575.9286</td>\n",
       "      <td>1168.3625</td>\n",
       "      <td>407.24048</td>\n",
       "      <td>19.4</td>\n",
       "      <td>15.6</td>\n",
       "      <td>...</td>\n",
       "      <td>9.8</td>\n",
       "      <td>9.8</td>\n",
       "      <td>9.8</td>\n",
       "      <td>9.8</td>\n",
       "      <td>17.2</td>\n",
       "      <td>17.8</td>\n",
       "      <td>9.8</td>\n",
       "      <td>-25.8</td>\n",
       "      <td>-2.8</td>\n",
       "      <td>0.0</td>\n",
       "    </tr>\n",
       "    <tr>\n",
       "      <th>310</th>\n",
       "      <td>992.67865</td>\n",
       "      <td>402.77030</td>\n",
       "      <td>992.49920</td>\n",
       "      <td>578.99980</td>\n",
       "      <td>1164.9908</td>\n",
       "      <td>576.6740</td>\n",
       "      <td>1167.0602</td>\n",
       "      <td>410.29816</td>\n",
       "      <td>19.4</td>\n",
       "      <td>15.6</td>\n",
       "      <td>...</td>\n",
       "      <td>9.8</td>\n",
       "      <td>9.8</td>\n",
       "      <td>9.8</td>\n",
       "      <td>9.8</td>\n",
       "      <td>17.2</td>\n",
       "      <td>17.8</td>\n",
       "      <td>9.8</td>\n",
       "      <td>-25.8</td>\n",
       "      <td>-2.8</td>\n",
       "      <td>0.0</td>\n",
       "    </tr>\n",
       "    <tr>\n",
       "      <th>311</th>\n",
       "      <td>992.41846</td>\n",
       "      <td>403.04680</td>\n",
       "      <td>990.98790</td>\n",
       "      <td>580.84240</td>\n",
       "      <td>1166.5675</td>\n",
       "      <td>576.8078</td>\n",
       "      <td>1167.4696</td>\n",
       "      <td>409.87100</td>\n",
       "      <td>19.4</td>\n",
       "      <td>15.6</td>\n",
       "      <td>...</td>\n",
       "      <td>9.8</td>\n",
       "      <td>9.8</td>\n",
       "      <td>9.8</td>\n",
       "      <td>9.8</td>\n",
       "      <td>17.2</td>\n",
       "      <td>17.8</td>\n",
       "      <td>9.8</td>\n",
       "      <td>-25.8</td>\n",
       "      <td>-2.8</td>\n",
       "      <td>0.0</td>\n",
       "    </tr>\n",
       "    <tr>\n",
       "      <th>312</th>\n",
       "      <td>990.72970</td>\n",
       "      <td>401.49368</td>\n",
       "      <td>988.60510</td>\n",
       "      <td>585.03180</td>\n",
       "      <td>1164.4619</td>\n",
       "      <td>575.2342</td>\n",
       "      <td>1163.9050</td>\n",
       "      <td>411.80536</td>\n",
       "      <td>19.4</td>\n",
       "      <td>15.6</td>\n",
       "      <td>...</td>\n",
       "      <td>9.8</td>\n",
       "      <td>9.8</td>\n",
       "      <td>9.8</td>\n",
       "      <td>9.8</td>\n",
       "      <td>17.2</td>\n",
       "      <td>17.8</td>\n",
       "      <td>9.8</td>\n",
       "      <td>-25.8</td>\n",
       "      <td>-2.8</td>\n",
       "      <td>0.0</td>\n",
       "    </tr>\n",
       "    <tr>\n",
       "      <th>313</th>\n",
       "      <td>997.44530</td>\n",
       "      <td>406.57483</td>\n",
       "      <td>995.15125</td>\n",
       "      <td>579.30634</td>\n",
       "      <td>1167.9883</td>\n",
       "      <td>579.9941</td>\n",
       "      <td>1165.9402</td>\n",
       "      <td>409.23060</td>\n",
       "      <td>19.4</td>\n",
       "      <td>15.6</td>\n",
       "      <td>...</td>\n",
       "      <td>9.8</td>\n",
       "      <td>9.8</td>\n",
       "      <td>9.8</td>\n",
       "      <td>9.8</td>\n",
       "      <td>17.2</td>\n",
       "      <td>17.8</td>\n",
       "      <td>9.8</td>\n",
       "      <td>-25.8</td>\n",
       "      <td>-2.8</td>\n",
       "      <td>0.0</td>\n",
       "    </tr>\n",
       "  </tbody>\n",
       "</table>\n",
       "<p>5 rows × 26 columns</p>\n",
       "</div>"
      ],
      "text/plain": [
       "     bottom_left_pixel_x  bottom_left_pixel_y  top_left_pixel_x  \\\n",
       "309            989.83905            401.94855         995.25287   \n",
       "310            992.67865            402.77030         992.49920   \n",
       "311            992.41846            403.04680         990.98790   \n",
       "312            990.72970            401.49368         988.60510   \n",
       "313            997.44530            406.57483         995.15125   \n",
       "\n",
       "     top_left_pixel_y  top_right_pixel_x  top_right_pixel_y  \\\n",
       "309         579.09330          1165.7173           575.9286   \n",
       "310         578.99980          1164.9908           576.6740   \n",
       "311         580.84240          1166.5675           576.8078   \n",
       "312         585.03180          1164.4619           575.2342   \n",
       "313         579.30634          1167.9883           579.9941   \n",
       "\n",
       "     bottom_right_pixel_x  bottom_right_pixel_y  expected_top_left_board_x  \\\n",
       "309             1168.3625             407.24048                       19.4   \n",
       "310             1167.0602             410.29816                       19.4   \n",
       "311             1167.4696             409.87100                       19.4   \n",
       "312             1163.9050             411.80536                       19.4   \n",
       "313             1165.9402             409.23060                       19.4   \n",
       "\n",
       "     expected_top_left_board_y          ...            \\\n",
       "309                       15.6          ...             \n",
       "310                       15.6          ...             \n",
       "311                       15.6          ...             \n",
       "312                       15.6          ...             \n",
       "313                       15.6          ...             \n",
       "\n",
       "     expected_top_left_board_z  expected_bottom_left_board_z  \\\n",
       "309                        9.8                           9.8   \n",
       "310                        9.8                           9.8   \n",
       "311                        9.8                           9.8   \n",
       "312                        9.8                           9.8   \n",
       "313                        9.8                           9.8   \n",
       "\n",
       "     expected_top_right_board_z  expected_bottom_right_board_z  \\\n",
       "309                         9.8                            9.8   \n",
       "310                         9.8                            9.8   \n",
       "311                         9.8                            9.8   \n",
       "312                         9.8                            9.8   \n",
       "313                         9.8                            9.8   \n",
       "\n",
       "     expected_center_board_x  expected_center_board_y  \\\n",
       "309                     17.2                     17.8   \n",
       "310                     17.2                     17.8   \n",
       "311                     17.2                     17.8   \n",
       "312                     17.2                     17.8   \n",
       "313                     17.2                     17.8   \n",
       "\n",
       "     expected_center_board_z  expected_center_arm_x  expected_center_arm_y  \\\n",
       "309                      9.8                  -25.8                   -2.8   \n",
       "310                      9.8                  -25.8                   -2.8   \n",
       "311                      9.8                  -25.8                   -2.8   \n",
       "312                      9.8                  -25.8                   -2.8   \n",
       "313                      9.8                  -25.8                   -2.8   \n",
       "\n",
       "     expected_center_arm_z  \n",
       "309                    0.0  \n",
       "310                    0.0  \n",
       "311                    0.0  \n",
       "312                    0.0  \n",
       "313                    0.0  \n",
       "\n",
       "[5 rows x 26 columns]"
      ]
     },
     "execution_count": 5,
     "metadata": {},
     "output_type": "execute_result"
    }
   ],
   "source": [
    "data_G = pd.read_csv(\"dataQr/qrG.csv\") \n",
    "\n",
    "point_E_top_left_board = (19.4, 15.6, 9.8)\n",
    "side_size = 4.4\n",
    "point_arm_starting = (20, -8, 0.0)\n",
    "\n",
    "expected_top_left_board_x = point_E_top_left_board[0]\n",
    "expected_top_left_board_y = point_E_top_left_board[1]\n",
    "\n",
    "data_G[\"expected_top_left_board_x\"] = expected_top_left_board_x\n",
    "data_G[\"expected_top_left_board_y\"] = expected_top_left_board_y\n",
    "data_G[\"expected_bottom_left_board_x\"] = expected_top_left_board_x\n",
    "data_G[\"expected_bottom_left_board_y\"] = expected_top_left_board_y + side_size\n",
    "data_G[\"expected_top_right_board_x\"] = expected_top_left_board_x - side_size\n",
    "data_G[\"expected_top_right_board_y\"] = expected_top_left_board_y\n",
    "data_G[\"expected_bottom_right_board_x\"] = expected_top_left_board_x - side_size\n",
    "data_G[\"expected_bottom_right_board_y\"] = expected_top_left_board_y + side_size\n",
    "\n",
    "\n",
    "data_G[\"expected_top_left_board_z\"] = point_E_top_left_board[2]\n",
    "data_G[\"expected_bottom_left_board_z\"] = point_E_top_left_board[2]\n",
    "data_G[\"expected_top_right_board_z\"] = point_E_top_left_board[2]\n",
    "data_G[\"expected_bottom_right_board_z\"] = point_E_top_left_board[2]\n",
    "\n",
    "data_G[\"expected_center_board_x\"] = expected_top_left_board_x - side_size/2\n",
    "data_G[\"expected_center_board_y\"] = expected_top_left_board_y + side_size/2\n",
    "data_G[\"expected_center_board_z\"] = point_E_top_left_board[2]\n",
    "\n",
    "data_G[\"expected_center_arm_x\"] = point_arm_starting[1] - (expected_top_left_board_y + side_size/2)\n",
    "data_G[\"expected_center_arm_y\"] = expected_top_left_board_x - side_size/2 - point_arm_starting[0]\n",
    "data_G[\"expected_center_arm_z\"] = point_arm_starting[2]\n",
    "\n",
    "data_G.tail(5)"
   ]
  },
  {
   "cell_type": "code",
   "execution_count": 6,
   "metadata": {},
   "outputs": [
    {
     "name": "stdout",
     "output_type": "stream",
     "text": [
      "144 95 118 144 314\n",
      "len(sum of datasets):  815 , len(data):  815\n"
     ]
    }
   ],
   "source": [
    "data = data_F.append(data_G)\n",
    "data = data.append(data_C)\n",
    "data = data.append(data_E)\n",
    "data = data.append(data_D)\n",
    "print(len(data_E), len(data_D), len(data_C), len(data_F), len(data_G))\n",
    "print(\"len(sum of datasets): \", len(data_E) + len(data_D) + len(data_C) + len(data_F) + len(data_G), \", len(data): \", len(data))"
   ]
  },
  {
   "cell_type": "code",
   "execution_count": 7,
   "metadata": {},
   "outputs": [],
   "source": [
    "shuffled_data = data.sample(frac=1)\n",
    "\n",
    "X = shuffled_data[[\"bottom_left_pixel_x\",\"bottom_left_pixel_y\",\"top_left_pixel_x\",\"top_left_pixel_y\",\"top_right_pixel_x\",\"top_right_pixel_y\",\"bottom_right_pixel_x\",\"bottom_right_pixel_y\"]]\n",
    "y = shuffled_data[[\"expected_center_arm_x\", \"expected_center_arm_y\", \"expected_center_arm_z\"]]\n",
    "\n",
    "held_out_percent = 0.33\n",
    "held_out_count = int(len(data) * held_out_percent)\n",
    "X_train = X[:-held_out_count]\n",
    "X_test = X[-held_out_count:]\n",
    "y_train = y[:-held_out_count]\n",
    "y_test = y[-held_out_count:]"
   ]
  },
  {
   "cell_type": "markdown",
   "metadata": {},
   "source": [
    "Linear regression:"
   ]
  },
  {
   "cell_type": "code",
   "execution_count": 8,
   "metadata": {},
   "outputs": [
    {
     "data": {
      "text/plain": [
       "LinearRegression(copy_X=True, fit_intercept=True, n_jobs=1, normalize=False)"
      ]
     },
     "execution_count": 8,
     "metadata": {},
     "output_type": "execute_result"
    }
   ],
   "source": [
    "from sklearn import datasets, linear_model\n",
    "from sklearn.metrics import mean_squared_error, r2_score\n",
    "# Create linear regression object\n",
    "regr = linear_model.LinearRegression()\n",
    "\n",
    "regr.fit(X_train, y_train)"
   ]
  },
  {
   "cell_type": "code",
   "execution_count": 9,
   "metadata": {},
   "outputs": [
    {
     "name": "stdout",
     "output_type": "stream",
     "text": [
      "Coefficients: \n",
      " [[-0.00774115  0.02972153 -0.01856616 -0.0757358   0.03455172 -0.02366231\n",
      "  -0.00819156  0.03384708]\n",
      " [-0.05016049  0.03075332 -0.07046937 -0.09230342  0.0578899   0.039898\n",
      "   0.02686333  0.02010981]\n",
      " [ 0.          0.          0.          0.          0.          0.\n",
      "   0.          0.        ]]\n",
      "Mean squared error: 0.07\n",
      "Variance score: 1.00\n",
      "     expected_center_arm_x  expected_center_arm_y  expected_center_arm_z\n",
      "138                    -25                     -2                      0\n",
      "272                    -25                     -2                      0\n",
      "190                    -25                     -2                      0\n",
      "51                     -17                     -7                      0\n",
      "205                    -25                     -2                      0\n",
      "74                     -33                     17                      0\n",
      "99                     -17                     -7                      0\n",
      "196                    -25                     -2                      0\n",
      "56                     -17                     -7                      0\n",
      "112                    -17                     -7                      0 [[-25  -2   0]\n",
      " [-25  -1   0]\n",
      " [-25  -2   0]\n",
      " [-18  -8   0]\n",
      " [-25  -2   0]\n",
      " [-33  17   0]\n",
      " [-18  -8   0]\n",
      " [-25  -2   0]\n",
      " [-17  -7   0]\n",
      " [-17  -8   0]]\n"
     ]
    }
   ],
   "source": [
    "# Make predictions using the testing set\n",
    "y_pred = regr.predict(X_test)\n",
    "\n",
    "# The coefficients\n",
    "print('Coefficients: \\n', regr.coef_)\n",
    "# The mean squared error\n",
    "print(\"Mean squared error: %.2f\"\n",
    "      % mean_squared_error(y_test, y_pred))\n",
    "# Explained variance score: 1 is perfect prediction\n",
    "print('Variance score: %.2f' % r2_score(y_test, y_pred))\n",
    "\n",
    "# # Plot outputs\n",
    "# plt.scatter(X_test, y_test,  color='black')\n",
    "# plt.plot(X_test, y_pred, color='blue', linewidth=3)\n",
    "\n",
    "# plt.xticks(())\n",
    "# plt.yticks(())\n",
    "\n",
    "# plt.show()\n",
    "print(y_test[:10].astype(int), y_pred[:10].astype(int))\n",
    "# print(y_test[-1:].astype(int), y_pred[-1:].astype(int))"
   ]
  },
  {
   "cell_type": "code",
   "execution_count": 10,
   "metadata": {},
   "outputs": [
    {
     "data": {
      "text/html": [
       "<div>\n",
       "<style scoped>\n",
       "    .dataframe tbody tr th:only-of-type {\n",
       "        vertical-align: middle;\n",
       "    }\n",
       "\n",
       "    .dataframe tbody tr th {\n",
       "        vertical-align: top;\n",
       "    }\n",
       "\n",
       "    .dataframe thead th {\n",
       "        text-align: right;\n",
       "    }\n",
       "</style>\n",
       "<table border=\"1\" class=\"dataframe\">\n",
       "  <thead>\n",
       "    <tr style=\"text-align: right;\">\n",
       "      <th></th>\n",
       "      <th>bottom_left_pixel_x</th>\n",
       "      <th>bottom_left_pixel_y</th>\n",
       "      <th>top_left_pixel_x</th>\n",
       "      <th>top_left_pixel_y</th>\n",
       "      <th>top_right_pixel_x</th>\n",
       "      <th>top_right_pixel_y</th>\n",
       "      <th>bottom_right_pixel_x</th>\n",
       "      <th>bottom_right_pixel_y</th>\n",
       "    </tr>\n",
       "  </thead>\n",
       "  <tbody>\n",
       "    <tr>\n",
       "      <th>138</th>\n",
       "      <td>989.00525</td>\n",
       "      <td>400.23944</td>\n",
       "      <td>994.78357</td>\n",
       "      <td>579.78130</td>\n",
       "      <td>1164.0422</td>\n",
       "      <td>573.86810</td>\n",
       "      <td>1170.2975</td>\n",
       "      <td>405.905360</td>\n",
       "    </tr>\n",
       "    <tr>\n",
       "      <th>272</th>\n",
       "      <td>988.87990</td>\n",
       "      <td>399.67816</td>\n",
       "      <td>994.69934</td>\n",
       "      <td>575.04236</td>\n",
       "      <td>1165.1831</td>\n",
       "      <td>576.26950</td>\n",
       "      <td>1170.3258</td>\n",
       "      <td>409.551500</td>\n",
       "    </tr>\n",
       "    <tr>\n",
       "      <th>190</th>\n",
       "      <td>988.57965</td>\n",
       "      <td>400.37805</td>\n",
       "      <td>989.28860</td>\n",
       "      <td>583.81250</td>\n",
       "      <td>1162.7260</td>\n",
       "      <td>572.94025</td>\n",
       "      <td>1162.4536</td>\n",
       "      <td>413.624970</td>\n",
       "    </tr>\n",
       "    <tr>\n",
       "      <th>51</th>\n",
       "      <td>1217.09610</td>\n",
       "      <td>109.27475</td>\n",
       "      <td>1220.46010</td>\n",
       "      <td>335.75620</td>\n",
       "      <td>1442.4258</td>\n",
       "      <td>325.89212</td>\n",
       "      <td>1439.5156</td>\n",
       "      <td>124.973915</td>\n",
       "    </tr>\n",
       "    <tr>\n",
       "      <th>205</th>\n",
       "      <td>993.39087</td>\n",
       "      <td>403.76953</td>\n",
       "      <td>992.98175</td>\n",
       "      <td>579.86066</td>\n",
       "      <td>1166.7421</td>\n",
       "      <td>577.30510</td>\n",
       "      <td>1167.3055</td>\n",
       "      <td>408.945130</td>\n",
       "    </tr>\n",
       "  </tbody>\n",
       "</table>\n",
       "</div>"
      ],
      "text/plain": [
       "     bottom_left_pixel_x  bottom_left_pixel_y  top_left_pixel_x  \\\n",
       "138            989.00525            400.23944         994.78357   \n",
       "272            988.87990            399.67816         994.69934   \n",
       "190            988.57965            400.37805         989.28860   \n",
       "51            1217.09610            109.27475        1220.46010   \n",
       "205            993.39087            403.76953         992.98175   \n",
       "\n",
       "     top_left_pixel_y  top_right_pixel_x  top_right_pixel_y  \\\n",
       "138         579.78130          1164.0422          573.86810   \n",
       "272         575.04236          1165.1831          576.26950   \n",
       "190         583.81250          1162.7260          572.94025   \n",
       "51          335.75620          1442.4258          325.89212   \n",
       "205         579.86066          1166.7421          577.30510   \n",
       "\n",
       "     bottom_right_pixel_x  bottom_right_pixel_y  \n",
       "138             1170.2975            405.905360  \n",
       "272             1170.3258            409.551500  \n",
       "190             1162.4536            413.624970  \n",
       "51              1439.5156            124.973915  \n",
       "205             1167.3055            408.945130  "
      ]
     },
     "execution_count": 10,
     "metadata": {},
     "output_type": "execute_result"
    }
   ],
   "source": [
    "X_test.head(5)"
   ]
  },
  {
   "cell_type": "markdown",
   "metadata": {},
   "source": [
    "Ridge Regression:"
   ]
  },
  {
   "cell_type": "code",
   "execution_count": 11,
   "metadata": {},
   "outputs": [
    {
     "name": "stdout",
     "output_type": "stream",
     "text": [
      "model1  RidgeCV(alphas=(0.1, 1.0, 10.0), cv=5, fit_intercept=True, gcv_mode=None,\n",
      "    normalize=False, scoring=None, store_cv_values=False)\n",
      "Mean squared error: 0.07\n"
     ]
    },
    {
     "data": {
      "text/plain": [
       "['pixels_qr_RidgeCV_xyz.sav']"
      ]
     },
     "execution_count": 11,
     "metadata": {},
     "output_type": "execute_result"
    }
   ],
   "source": [
    "from sklearn import linear_model\n",
    "\n",
    "model1 = linear_model.RidgeCV(cv=5)\n",
    "model1.fit(X_train, y_train)\n",
    "print(\"model1 \", model1)\n",
    "# y_pred = model1.predict(X_test)\n",
    "y_pred = model1.predict(X_test)\n",
    "print(\"Mean squared error: %.2f\" % mean_squared_error(y_test, y_pred))\n",
    "joblib.dump(model1, 'pixels_qr_RidgeCV_xyz.sav')"
   ]
  },
  {
   "cell_type": "markdown",
   "metadata": {},
   "source": [
    "Lasso Regression:"
   ]
  },
  {
   "cell_type": "code",
   "execution_count": 36,
   "metadata": {},
   "outputs": [
    {
     "name": "stdout",
     "output_type": "stream",
     "text": [
      "model1  Lasso(alpha=0.1, copy_X=True, fit_intercept=True, max_iter=1000,\n",
      "   normalize=False, positive=False, precompute=False, random_state=None,\n",
      "   selection='cyclic', tol=0.0001, warm_start=False)\n",
      "Mean squared error: 0.10\n"
     ]
    },
    {
     "name": "stderr",
     "output_type": "stream",
     "text": [
      "C:\\Users\\temp3rr0r\\Anaconda3\\envs\\tensorflowLast\\lib\\site-packages\\sklearn\\linear_model\\coordinate_descent.py:491: ConvergenceWarning: Objective did not converge. You might want to increase the number of iterations. Fitting data with very small alpha may cause precision problems.\n",
      "  ConvergenceWarning)\n"
     ]
    },
    {
     "data": {
      "text/plain": [
       "['pixels_qr_Lasso_xyz.sav']"
      ]
     },
     "execution_count": 36,
     "metadata": {},
     "output_type": "execute_result"
    }
   ],
   "source": [
    "from sklearn import linear_model\n",
    "\n",
    "model1 = linear_model.Lasso(alpha=.1)\n",
    "model1.fit(X_train, y_train)\n",
    "print(\"model1 \", model1)\n",
    "# y_pred = model1.predict(X_test)\n",
    "y_pred = model1.predict(X_test)\n",
    "print(\"Mean squared error: %.2f\" % mean_squared_error(y_test, y_pred))\n",
    "joblib.dump(model1, 'pixels_qr_Lasso_xyz.sav')"
   ]
  },
  {
   "cell_type": "markdown",
   "metadata": {},
   "source": [
    "MultiTaskLasso:"
   ]
  },
  {
   "cell_type": "code",
   "execution_count": 37,
   "metadata": {},
   "outputs": [
    {
     "name": "stdout",
     "output_type": "stream",
     "text": [
      "model1  MultiTaskLasso(alpha=0.1, copy_X=True, fit_intercept=True, max_iter=1000,\n",
      "        normalize=False, random_state=None, selection='cyclic', tol=0.0001,\n",
      "        warm_start=False)\n",
      "Mean squared error: 0.10\n"
     ]
    },
    {
     "name": "stderr",
     "output_type": "stream",
     "text": [
      "C:\\Users\\temp3rr0r\\Anaconda3\\envs\\tensorflowLast\\lib\\site-packages\\sklearn\\linear_model\\coordinate_descent.py:1778: ConvergenceWarning: Objective did not converge, you might want to increase the number of iterations\n",
      "  ConvergenceWarning)\n"
     ]
    },
    {
     "data": {
      "text/plain": [
       "['pixels_qr_MultiTaskLasso_xyz.sav']"
      ]
     },
     "execution_count": 37,
     "metadata": {},
     "output_type": "execute_result"
    }
   ],
   "source": [
    "from sklearn import linear_model\n",
    "\n",
    "model1 = linear_model.MultiTaskLasso(alpha=.1)\n",
    "model1.fit(X_train, y_train)\n",
    "print(\"model1 \", model1)\n",
    "# y_pred = model1.predict(X_test)\n",
    "y_pred = model1.predict(X_test)\n",
    "print(\"Mean squared error: %.2f\" % mean_squared_error(y_test, y_pred))\n",
    "joblib.dump(model1, 'pixels_qr_MultiTaskLasso_xyz.sav')"
   ]
  },
  {
   "cell_type": "markdown",
   "metadata": {},
   "source": [
    "MultiTaskLasso CV:"
   ]
  },
  {
   "cell_type": "code",
   "execution_count": 40,
   "metadata": {},
   "outputs": [
    {
     "name": "stdout",
     "output_type": "stream",
     "text": [
      "model1  MultiTaskLassoCV(alphas=None, copy_X=True, cv=10, eps=0.001,\n",
      "         fit_intercept=True, max_iter=1000, n_alphas=100, n_jobs=1,\n",
      "         normalize=False, random_state=0, selection='cyclic', tol=0.0001,\n",
      "         verbose=False)\n",
      "Mean squared error: 0.14\n"
     ]
    },
    {
     "name": "stderr",
     "output_type": "stream",
     "text": [
      "C:\\Users\\temp3rr0r\\Anaconda3\\envs\\tensorflowLast\\lib\\site-packages\\sklearn\\linear_model\\coordinate_descent.py:1778: ConvergenceWarning: Objective did not converge, you might want to increase the number of iterations\n",
      "  ConvergenceWarning)\n"
     ]
    },
    {
     "data": {
      "text/plain": [
       "['pixels_qr_MultiTaskLassoCV_xyz.sav']"
      ]
     },
     "execution_count": 40,
     "metadata": {},
     "output_type": "execute_result"
    }
   ],
   "source": [
    "from sklearn import linear_model\n",
    "\n",
    "model1 = linear_model.MultiTaskLassoCV(cv=10, random_state=0)\n",
    "model1.fit(X_train, y_train)\n",
    "print(\"model1 \", model1)\n",
    "y_pred = model1.predict(X_test)\n",
    "print(\"Mean squared error: %.2f\" % mean_squared_error(y_test, y_pred))\n",
    "joblib.dump(model1, 'pixels_qr_MultiTaskLassoCV_xyz.sav')"
   ]
  },
  {
   "cell_type": "code",
   "execution_count": 35,
   "metadata": {},
   "outputs": [
    {
     "name": "stdout",
     "output_type": "stream",
     "text": [
      "model1  MultiTaskElasticNetCV(alphas=None, copy_X=True, cv=5, eps=0.001,\n",
      "           fit_intercept=True, l1_ratio=0.5, max_iter=1000, n_alphas=100,\n",
      "           n_jobs=1, normalize=False, random_state=0, selection='cyclic',\n",
      "           tol=0.0001, verbose=0)\n",
      "Mean squared error: 0.14\n"
     ]
    },
    {
     "name": "stderr",
     "output_type": "stream",
     "text": [
      "C:\\Users\\temp3rr0r\\Anaconda3\\envs\\tensorflowLast\\lib\\site-packages\\sklearn\\linear_model\\coordinate_descent.py:1778: ConvergenceWarning: Objective did not converge, you might want to increase the number of iterations\n",
      "  ConvergenceWarning)\n"
     ]
    },
    {
     "data": {
      "text/plain": [
       "['pixels_qr_MultiTaskElasticNetCV_xyz.sav']"
      ]
     },
     "execution_count": 35,
     "metadata": {},
     "output_type": "execute_result"
    }
   ],
   "source": [
    "model1 = linear_model.MultiTaskElasticNetCV(cv=5, random_state=0)\n",
    "model1.fit(X_train, y_train)\n",
    "print(\"model1 \", model1)\n",
    "y_pred = model1.predict(X_test)\n",
    "print(\"Mean squared error: %.2f\" % mean_squared_error(y_test, y_pred))\n",
    "joblib.dump(model1, 'pixels_qr_MultiTaskElasticNetCV_xyz.sav')"
   ]
  },
  {
   "cell_type": "code",
   "execution_count": 47,
   "metadata": {},
   "outputs": [
    {
     "name": "stdout",
     "output_type": "stream",
     "text": [
      "model1  ElasticNet(alpha=1.0, copy_X=True, fit_intercept=True, l1_ratio=0.5,\n",
      "      max_iter=1000, normalize=False, positive=False, precompute=False,\n",
      "      random_state=None, selection='cyclic', tol=0.0001, warm_start=False)\n",
      "Mean squared error: 0.11\n"
     ]
    },
    {
     "name": "stderr",
     "output_type": "stream",
     "text": [
      "C:\\Users\\temp3rr0r\\Anaconda3\\envs\\tensorflowLast\\lib\\site-packages\\sklearn\\linear_model\\coordinate_descent.py:491: ConvergenceWarning: Objective did not converge. You might want to increase the number of iterations. Fitting data with very small alpha may cause precision problems.\n",
      "  ConvergenceWarning)\n"
     ]
    },
    {
     "data": {
      "text/plain": [
       "['pixels_qr_ElasticNet_xyz.sav']"
      ]
     },
     "execution_count": 47,
     "metadata": {},
     "output_type": "execute_result"
    }
   ],
   "source": [
    "model1 = linear_model.ElasticNet()\n",
    "model1.fit(X_train, y_train)\n",
    "print(\"model1 \", model1)\n",
    "y_pred = model1.predict(X_test)\n",
    "print(\"Mean squared error: %.2f\" % mean_squared_error(y_test, y_pred))\n",
    "joblib.dump(model1, 'pixels_qr_ElasticNet_xyz.sav')"
   ]
  },
  {
   "cell_type": "code",
   "execution_count": 48,
   "metadata": {},
   "outputs": [
    {
     "name": "stdout",
     "output_type": "stream",
     "text": [
      "model1  MultiTaskElasticNetCV(alphas=None, copy_X=True, cv=None, eps=0.001,\n",
      "           fit_intercept=True, l1_ratio=0.5, max_iter=1000, n_alphas=100,\n",
      "           n_jobs=1, normalize=False, random_state=None,\n",
      "           selection='cyclic', tol=0.0001, verbose=0)\n",
      "Mean squared error: 0.14\n"
     ]
    },
    {
     "name": "stderr",
     "output_type": "stream",
     "text": [
      "C:\\Users\\temp3rr0r\\Anaconda3\\envs\\tensorflowLast\\lib\\site-packages\\sklearn\\linear_model\\coordinate_descent.py:1778: ConvergenceWarning: Objective did not converge, you might want to increase the number of iterations\n",
      "  ConvergenceWarning)\n"
     ]
    },
    {
     "data": {
      "text/plain": [
       "['pixels_qr_MultiTaskElasticNetCV_xyz.sav']"
      ]
     },
     "execution_count": 48,
     "metadata": {},
     "output_type": "execute_result"
    }
   ],
   "source": [
    "model1 = linear_model.MultiTaskElasticNetCV()\n",
    "model1.fit(X_train, y_train)\n",
    "print(\"model1 \", model1)\n",
    "y_pred = model1.predict(X_test)\n",
    "print(\"Mean squared error: %.2f\" % mean_squared_error(y_test, y_pred))\n",
    "joblib.dump(model1, 'pixels_qr_MultiTaskElasticNetCV_xyz.sav')"
   ]
  },
  {
   "cell_type": "code",
   "execution_count": 41,
   "metadata": {},
   "outputs": [
    {
     "name": "stdout",
     "output_type": "stream",
     "text": [
      "model1  PLSRegression(copy=True, max_iter=500, n_components=3, scale=True, tol=1e-06)\n",
      "Mean squared error: 0.13\n"
     ]
    },
    {
     "data": {
      "text/plain": [
       "['pixels_qr_PLSRegression_xyz.sav']"
      ]
     },
     "execution_count": 41,
     "metadata": {},
     "output_type": "execute_result"
    }
   ],
   "source": [
    "from sklearn.cross_decomposition import PLSRegression\n",
    "model1 = PLSRegression(n_components=3)\n",
    "model1.fit(X_train, y_train)\n",
    "print(\"model1 \", model1)\n",
    "y_pred = model1.predict(X_test)\n",
    "print(\"Mean squared error: %.2f\" % mean_squared_error(y_test, y_pred))\n",
    "joblib.dump(model1, 'pixels_qr_PLSRegression_xyz.sav')"
   ]
  },
  {
   "cell_type": "code",
   "execution_count": 18,
   "metadata": {},
   "outputs": [
    {
     "name": "stdout",
     "output_type": "stream",
     "text": [
      "model1  RANSACRegressor(base_estimator=None, is_data_valid=None, is_model_valid=None,\n",
      "        loss='absolute_loss', max_skips=inf, max_trials=100,\n",
      "        min_samples=None, random_state=0, residual_metric=None,\n",
      "        residual_threshold=None, stop_n_inliers=inf, stop_probability=0.99,\n",
      "        stop_score=inf)\n",
      "Mean squared error: 0.07\n"
     ]
    },
    {
     "data": {
      "text/plain": [
       "['pixels_qr_RANSACRegressor_xyz.sav']"
      ]
     },
     "execution_count": 18,
     "metadata": {},
     "output_type": "execute_result"
    }
   ],
   "source": [
    "model1 = linear_model.RANSACRegressor(random_state=0)\n",
    "model1.fit(X_train, y_train)\n",
    "print(\"model1 \", model1)\n",
    "y_pred = model1.predict(X_test)\n",
    "print(\"Mean squared error: %.2f\" % mean_squared_error(y_test, y_pred))\n",
    "joblib.dump(model1, 'pixels_qr_RANSACRegressor_xyz.sav')"
   ]
  },
  {
   "cell_type": "code",
   "execution_count": 19,
   "metadata": {},
   "outputs": [
    {
     "name": "stdout",
     "output_type": "stream",
     "text": [
      "model1  RandomForestRegressor(bootstrap=True, criterion='mse', max_depth=None,\n",
      "           max_features='auto', max_leaf_nodes=None,\n",
      "           min_impurity_decrease=0.0, min_impurity_split=None,\n",
      "           min_samples_leaf=1, min_samples_split=2,\n",
      "           min_weight_fraction_leaf=0.0, n_estimators=10, n_jobs=1,\n",
      "           oob_score=False, random_state=0, verbose=0, warm_start=False)\n",
      "Mean squared error: 0.00\n"
     ]
    },
    {
     "name": "stderr",
     "output_type": "stream",
     "text": [
      "C:\\Users\\temp3rr0r\\Anaconda3\\envs\\tensorflowLast\\lib\\site-packages\\sklearn\\ensemble\\weight_boosting.py:29: DeprecationWarning: numpy.core.umath_tests is an internal NumPy module and should not be imported. It will be removed in a future NumPy release.\n",
      "  from numpy.core.umath_tests import inner1d\n"
     ]
    },
    {
     "data": {
      "text/plain": [
       "['pixels_qr_RandomForestRegressor_xyz.sav']"
      ]
     },
     "execution_count": 19,
     "metadata": {},
     "output_type": "execute_result"
    }
   ],
   "source": [
    "from sklearn.ensemble import RandomForestRegressor\n",
    "model1 = RandomForestRegressor(random_state=0)\n",
    "model1.fit(X_train, y_train)\n",
    "print(\"model1 \", model1)\n",
    "y_pred = model1.predict(X_test)\n",
    "print(\"Mean squared error: %.2f\" % mean_squared_error(y_test, y_pred))\n",
    "joblib.dump(model1, 'pixels_qr_RandomForestRegressor_xyz.sav')"
   ]
  },
  {
   "cell_type": "code",
   "execution_count": 20,
   "metadata": {},
   "outputs": [
    {
     "name": "stdout",
     "output_type": "stream",
     "text": [
      "model1  ExtraTreesRegressor(bootstrap=False, criterion='mse', max_depth=None,\n",
      "          max_features='auto', max_leaf_nodes=None,\n",
      "          min_impurity_decrease=0.0, min_impurity_split=None,\n",
      "          min_samples_leaf=1, min_samples_split=2,\n",
      "          min_weight_fraction_leaf=0.0, n_estimators=10, n_jobs=1,\n",
      "          oob_score=False, random_state=0, verbose=0, warm_start=False)\n",
      "Mean squared error: 0.00\n"
     ]
    },
    {
     "data": {
      "text/plain": [
       "['pixels_qr_ExtraTreesRegressor_xyz.sav']"
      ]
     },
     "execution_count": 20,
     "metadata": {},
     "output_type": "execute_result"
    }
   ],
   "source": [
    "from sklearn.ensemble import ExtraTreesRegressor\n",
    "model1 = ExtraTreesRegressor(random_state=0)\n",
    "model1.fit(X_train, y_train)\n",
    "print(\"model1 \", model1)\n",
    "y_pred = model1.predict(X_test)\n",
    "print(\"Mean squared error: %.2f\" % mean_squared_error(y_test, y_pred))\n",
    "joblib.dump(model1, 'pixels_qr_ExtraTreesRegressor_xyz.sav')"
   ]
  },
  {
   "cell_type": "code",
   "execution_count": 42,
   "metadata": {},
   "outputs": [
    {
     "name": "stdout",
     "output_type": "stream",
     "text": [
      "model1  GaussianProcessRegressor(alpha=1e-10, copy_X_train=True,\n",
      "             kernel=DotProduct(sigma_0=1) + WhiteKernel(noise_level=1),\n",
      "             n_restarts_optimizer=0, normalize_y=False,\n",
      "             optimizer='fmin_l_bfgs_b', random_state=0)\n",
      "Mean squared error: 0.16\n"
     ]
    },
    {
     "data": {
      "text/plain": [
       "['pixels_qr_GaussianProcessRegressor_xyz.sav']"
      ]
     },
     "execution_count": 42,
     "metadata": {},
     "output_type": "execute_result"
    }
   ],
   "source": [
    "from sklearn.gaussian_process import GaussianProcessRegressor\n",
    "from sklearn.gaussian_process.kernels import DotProduct, WhiteKernel\n",
    "kernel = DotProduct() + WhiteKernel()\n",
    "model1 = GaussianProcessRegressor(kernel=kernel, random_state=0)\n",
    "model1.fit(X_train, y_train)\n",
    "print(\"model1 \", model1)\n",
    "y_pred = model1.predict(X_test)\n",
    "print(\"Mean squared error: %.2f\" % mean_squared_error(y_test, y_pred))\n",
    "joblib.dump(model1, 'pixels_qr_GaussianProcessRegressor_xyz.sav')"
   ]
  },
  {
   "cell_type": "code",
   "execution_count": 43,
   "metadata": {},
   "outputs": [
    {
     "name": "stderr",
     "output_type": "stream",
     "text": [
      "C:\\Users\\temp3rr0r\\Anaconda3\\envs\\tensorflowLast\\lib\\site-packages\\sklearn\\gaussian_process\\gpr.py:457: UserWarning: fmin_l_bfgs_b terminated abnormally with the  state: {'grad': array([ 0.00296748, -0.00641286]), 'task': b'ABNORMAL_TERMINATION_IN_LNSRCH', 'funcalls': 60, 'nit': 12, 'warnflag': 2}\n",
      "  \" state: %s\" % convergence_dict)\n"
     ]
    },
    {
     "name": "stdout",
     "output_type": "stream",
     "text": [
      "model1  MultiOutputRegressor(estimator=GaussianProcessRegressor(alpha=1e-10, copy_X_train=True,\n",
      "             kernel=DotProduct(sigma_0=1) + WhiteKernel(noise_level=1),\n",
      "             n_restarts_optimizer=0, normalize_y=False,\n",
      "             optimizer='fmin_l_bfgs_b', random_state=0),\n",
      "           n_jobs=1)\n",
      "Mean squared error: 0.16\n"
     ]
    },
    {
     "data": {
      "text/plain": [
       "['pixels_qr_MultiOutputRegressor_xyz.sav']"
      ]
     },
     "execution_count": 43,
     "metadata": {},
     "output_type": "execute_result"
    }
   ],
   "source": [
    "# TODO: wierd but interesting\n",
    "from sklearn.multioutput import MultiOutputRegressor\n",
    "model1 = MultiOutputRegressor(estimator=model1)\n",
    "model1.fit(X_train, y_train)\n",
    "print(\"model1 \", model1)\n",
    "y_pred = model1.predict(X_test)\n",
    "print(\"Mean squared error: %.2f\" % mean_squared_error(y_test, y_pred))\n",
    "joblib.dump(model1, 'pixels_qr_MultiOutputRegressor_xyz.sav')"
   ]
  },
  {
   "cell_type": "code",
   "execution_count": 23,
   "metadata": {},
   "outputs": [
    {
     "name": "stdout",
     "output_type": "stream",
     "text": [
      "model1  KNeighborsRegressor(algorithm='auto', leaf_size=30, metric='minkowski',\n",
      "          metric_params=None, n_jobs=1, n_neighbors=5, p=2,\n",
      "          weights='uniform')\n",
      "Mean squared error: 0.00\n"
     ]
    },
    {
     "data": {
      "text/plain": [
       "['pixels_qr_KNeighborsRegressor_xyz.sav']"
      ]
     },
     "execution_count": 23,
     "metadata": {},
     "output_type": "execute_result"
    }
   ],
   "source": [
    "from sklearn.neighbors import KNeighborsRegressor\n",
    "model1 = KNeighborsRegressor(n_neighbors=5)\n",
    "model1.fit(X_train, y_train)\n",
    "print(\"model1 \", model1)\n",
    "y_pred = model1.predict(X_test)\n",
    "print(\"Mean squared error: %.2f\" % mean_squared_error(y_test, y_pred))\n",
    "joblib.dump(model1, 'pixels_qr_KNeighborsRegressor_xyz.sav')"
   ]
  },
  {
   "cell_type": "code",
   "execution_count": 44,
   "metadata": {},
   "outputs": [
    {
     "name": "stdout",
     "output_type": "stream",
     "text": [
      "model1  MultiOutputRegressor(estimator=LinearSVR(C=1.0, dual=True, epsilon=0.0, fit_intercept=True,\n",
      "     intercept_scaling=1.0, loss='epsilon_insensitive', max_iter=1000,\n",
      "     random_state=0, tol=1e-05, verbose=0),\n",
      "           n_jobs=1)\n",
      "Mean squared error: 2.97\n"
     ]
    },
    {
     "data": {
      "text/plain": [
       "['pixels_qr_LinearSVR_xyz.sav']"
      ]
     },
     "execution_count": 44,
     "metadata": {},
     "output_type": "execute_result"
    }
   ],
   "source": [
    "from sklearn.svm import LinearSVR\n",
    "model0 = LinearSVR(random_state=0, tol=1e-5)\n",
    "from sklearn.multioutput import MultiOutputRegressor\n",
    "model1 = MultiOutputRegressor(estimator=model0)\n",
    "model1.fit(X_train, y_train)\n",
    "print(\"model1 \", model1)\n",
    "y_pred = model1.predict(X_test)\n",
    "print(\"Mean squared error: %.2f\" % mean_squared_error(y_test, y_pred))\n",
    "joblib.dump(model1, 'pixels_qr_LinearSVR_xyz.sav')"
   ]
  },
  {
   "cell_type": "code",
   "execution_count": 25,
   "metadata": {},
   "outputs": [
    {
     "name": "stdout",
     "output_type": "stream",
     "text": [
      "model1  MultiOutputRegressor(estimator=AdaBoostRegressor(base_estimator=None, learning_rate=1.0, loss='linear',\n",
      "         n_estimators=50, random_state=None),\n",
      "           n_jobs=1)\n",
      "Mean squared error: 0.00\n"
     ]
    },
    {
     "data": {
      "text/plain": [
       "['pixels_qr_AdaBoostRegressor_xyz.sav']"
      ]
     },
     "execution_count": 25,
     "metadata": {},
     "output_type": "execute_result"
    }
   ],
   "source": [
    "from sklearn.ensemble import AdaBoostRegressor\n",
    "model0 = AdaBoostRegressor()\n",
    "from sklearn.multioutput import MultiOutputRegressor\n",
    "model1 = MultiOutputRegressor(estimator=model0)\n",
    "model1.fit(X_train, y_train)\n",
    "print(\"model1 \", model1)\n",
    "y_pred = model1.predict(X_test)\n",
    "print(\"Mean squared error: %.2f\" % mean_squared_error(y_test, y_pred))\n",
    "joblib.dump(model1, 'pixels_qr_AdaBoostRegressor_xyz.sav')"
   ]
  },
  {
   "cell_type": "code",
   "execution_count": 26,
   "metadata": {},
   "outputs": [
    {
     "name": "stdout",
     "output_type": "stream",
     "text": [
      "model1  MultiOutputRegressor(estimator=BaggingRegressor(base_estimator=None, bootstrap=True,\n",
      "         bootstrap_features=False, max_features=1.0, max_samples=1.0,\n",
      "         n_estimators=10, n_jobs=1, oob_score=False, random_state=None,\n",
      "         verbose=0, warm_start=False),\n",
      "           n_jobs=1)\n",
      "Mean squared error: 0.00\n"
     ]
    },
    {
     "data": {
      "text/plain": [
       "['pixels_qr_BaggingRegressor_xyz.sav']"
      ]
     },
     "execution_count": 26,
     "metadata": {},
     "output_type": "execute_result"
    }
   ],
   "source": [
    "from sklearn.ensemble import BaggingRegressor\n",
    "model0 = BaggingRegressor()\n",
    "from sklearn.multioutput import MultiOutputRegressor\n",
    "model1 = MultiOutputRegressor(estimator=model0)\n",
    "model1.fit(X_train, y_train)\n",
    "print(\"model1 \", model1)\n",
    "y_pred = model1.predict(X_test)\n",
    "print(\"Mean squared error: %.2f\" % mean_squared_error(y_test, y_pred))\n",
    "joblib.dump(model1, 'pixels_qr_BaggingRegressor_xyz.sav')"
   ]
  },
  {
   "cell_type": "code",
   "execution_count": 27,
   "metadata": {},
   "outputs": [
    {
     "name": "stdout",
     "output_type": "stream",
     "text": [
      "model1  MultiOutputRegressor(estimator=GradientBoostingRegressor(alpha=0.9, criterion='friedman_mse', init=None,\n",
      "             learning_rate=0.1, loss='ls', max_depth=3, max_features=None,\n",
      "             max_leaf_nodes=None, min_impurity_decrease=0.0,\n",
      "             min_impurity_split=None, min_samples_leaf=1,\n",
      "             min_samples_split=2, min_weight_fraction_leaf=0.0,\n",
      "             n_estimators=100, presort='auto', random_state=None,\n",
      "             subsample=1.0, verbose=0, warm_start=False),\n",
      "           n_jobs=1)\n",
      "Mean squared error: 0.00\n"
     ]
    },
    {
     "data": {
      "text/plain": [
       "['pixels_qr_GradientBoostingRegressor_xyz.sav']"
      ]
     },
     "execution_count": 27,
     "metadata": {},
     "output_type": "execute_result"
    }
   ],
   "source": [
    "from sklearn.ensemble import GradientBoostingRegressor\n",
    "model0 = GradientBoostingRegressor()\n",
    "from sklearn.multioutput import MultiOutputRegressor\n",
    "model1 = MultiOutputRegressor(estimator=model0)\n",
    "model1.fit(X_train, y_train)\n",
    "print(\"model1 \", model1)\n",
    "y_pred = model1.predict(X_test)\n",
    "print(\"Mean squared error: %.2f\" % mean_squared_error(y_test, y_pred))\n",
    "joblib.dump(model1, 'pixels_qr_GradientBoostingRegressor_xyz.sav')"
   ]
  },
  {
   "cell_type": "markdown",
   "metadata": {},
   "source": [
    "MLP regression:"
   ]
  },
  {
   "cell_type": "code",
   "execution_count": 28,
   "metadata": {},
   "outputs": [
    {
     "data": {
      "text/plain": [
       "MLPRegressor(activation='relu', alpha=1e-05, batch_size='auto', beta_1=0.9,\n",
       "       beta_2=0.999, early_stopping=False, epsilon=1e-08,\n",
       "       hidden_layer_sizes=(120, 80, 30, 100), learning_rate='constant',\n",
       "       learning_rate_init=0.001, max_iter=200, momentum=0.9,\n",
       "       nesterovs_momentum=True, power_t=0.5, random_state=1, shuffle=True,\n",
       "       solver='lbfgs', tol=0.0001, validation_fraction=0.1, verbose=False,\n",
       "       warm_start=False)"
      ]
     },
     "execution_count": 28,
     "metadata": {},
     "output_type": "execute_result"
    }
   ],
   "source": [
    "from sklearn.neural_network import MLPRegressor\n",
    "clf = MLPRegressor(solver='lbfgs', alpha=1e-5, hidden_layer_sizes=(120, 80, 30, 100), random_state=1)\n",
    "clf.fit(X_train, y_train)"
   ]
  },
  {
   "cell_type": "code",
   "execution_count": 29,
   "metadata": {},
   "outputs": [
    {
     "name": "stdout",
     "output_type": "stream",
     "text": [
      "Mean squared error: 0.02\n",
      "     expected_center_arm_x  expected_center_arm_y  expected_center_arm_z\n",
      "138                    -25                     -2                      0\n",
      "272                    -25                     -2                      0\n",
      "190                    -25                     -2                      0\n",
      "51                     -17                     -7                      0\n",
      "205                    -25                     -2                      0\n",
      "74                     -33                     17                      0\n",
      "99                     -17                     -7                      0\n",
      "196                    -25                     -2                      0\n",
      "56                     -17                     -7                      0\n",
      "112                    -17                     -7                      0 [[-25  -2   0]\n",
      " [-25  -2   0]\n",
      " [-25  -3   0]\n",
      " [-17  -7   0]\n",
      " [-25  -2   0]\n",
      " [-33  17   0]\n",
      " [-17  -7   0]\n",
      " [-25  -2   0]\n",
      " [-17  -7   0]\n",
      " [-17  -7   0]]\n"
     ]
    }
   ],
   "source": [
    "y_pred = clf.predict(X_test)\n",
    "print(\"Mean squared error: %.2f\" % mean_squared_error(y_test, y_pred))\n",
    "print(y_test[:10].astype(int), y_pred[:10].astype(int))\n",
    "# print(y_test[10:].astype(int), y_pred[10:].astype(int))"
   ]
  },
  {
   "cell_type": "code",
   "execution_count": 30,
   "metadata": {},
   "outputs": [],
   "source": [
    "class timeit():\n",
    "    from datetime import datetime\n",
    "    def __enter__(self):\n",
    "        self.tic = self.datetime.now()\n",
    "    def __exit__(self, *args, **kwargs):\n",
    "        print('runtime: {}'.format(self.datetime.now() - self.tic))"
   ]
  },
  {
   "cell_type": "code",
   "execution_count": 31,
   "metadata": {},
   "outputs": [
    {
     "data": {
      "text/plain": [
       "datetime.datetime(2019, 5, 3, 16, 10, 52, 376188)"
      ]
     },
     "execution_count": 31,
     "metadata": {},
     "output_type": "execute_result"
    }
   ],
   "source": [
    "from datetime import datetime\n",
    "datetime.now()"
   ]
  },
  {
   "cell_type": "code",
   "execution_count": 32,
   "metadata": {},
   "outputs": [
    {
     "name": "stdout",
     "output_type": "stream",
     "text": [
      "runtime: 0:00:00\n",
      "[[-3.39232944e+01 -1.76920972e+01 -1.60790195e-02]\n",
      " [-3.39335397e+01  1.83118469e+01 -3.27318033e-01]\n",
      " [-1.59409767e+01  2.22186270e+00 -1.66104915e-01]\n",
      " [-1.77657223e+01 -7.83005749e+00  1.97681863e-02]\n",
      " [-2.57390405e+01 -2.61352976e+00  1.70704102e-01]]\n",
      "runtime: 0:00:00\n",
      "[[-33.88327375 -17.84439723   0.        ]\n",
      " [-33.93745119  17.74626533   0.        ]\n",
      " [-15.84702818   2.15266458   0.        ]\n",
      " [-18.20588613  -8.2034969    0.        ]\n",
      " [-25.71076781  -2.6957094    0.        ]]\n",
      "[[-33.8, -17.8, 0.0], [-33.8, 17.8, 0.0], [-15.8, 2.2, 0.0], [-17.8, -7.8, 0.0], [-25.8, -2.8, 0.0]]\n"
     ]
    }
   ],
   "source": [
    "# regr.predict([1395.1582,690.2671,1404.3729,840.06885,1554.4364,843.0976,1544.1744,692.78174])\n",
    "X_validate = [\n",
    "    [1395.1582,690.2671,1404.3729,840.06885,1554.4364,843.0976,1544.1744,692.78174],\n",
    "    [425.08948,688.82007,400.65857,837.42413,562.5942,840.0118,563.503,687.0966],\n",
    "    [861.4465,221.13101,856.76025,351.2697,996.6109,354.29453,997.3974,216.82195],\n",
    "    [1216.8048,108.742096,1221.4166,332.99548,1443.5278,328.23065,1445.7577,120.2978],\n",
    "    [989.15936,398.22433,998.178,576.02185,1162.1074,574.61816,1170.0554,406.4485]\n",
    "]\n",
    "y_validate = [[-33.8,-17.8,0.0],\n",
    "[-33.8,17.8,0.0],\n",
    "[-15.8,2.2,0.0],\n",
    "[-17.8,-7.8,0.0],\n",
    "[-25.8,-2.8,0.0]]\n",
    "\n",
    "with timeit():\n",
    "    k = datetime.now()\n",
    "    pred_clf = clf.predict(X_validate)\n",
    "print(pred_clf)    \n",
    "with timeit():\n",
    "    pred_regr = regr.predict(X_validate)\n",
    "print(pred_regr)    \n",
    "print(y_validate)"
   ]
  },
  {
   "cell_type": "markdown",
   "metadata": {},
   "source": [
    "Save/load linear and MPL regressors from disk:"
   ]
  },
  {
   "cell_type": "code",
   "execution_count": 33,
   "metadata": {},
   "outputs": [
    {
     "name": "stdout",
     "output_type": "stream",
     "text": [
      "runtime: 0:00:00.000999\n",
      "[[-3.39232944e+01 -1.76920972e+01 -1.60790195e-02]\n",
      " [-3.39335397e+01  1.83118469e+01 -3.27318033e-01]\n",
      " [-1.59409767e+01  2.22186270e+00 -1.66104915e-01]\n",
      " [-1.77657223e+01 -7.83005749e+00  1.97681863e-02]\n",
      " [-2.57390405e+01 -2.61352976e+00  1.70704102e-01]]\n",
      "runtime: 0:00:00.000999\n",
      "[[-33.88327375 -17.84439723   0.        ]\n",
      " [-33.93745119  17.74626533   0.        ]\n",
      " [-15.84702818   2.15266458   0.        ]\n",
      " [-18.20588613  -8.2034969    0.        ]\n",
      " [-25.71076781  -2.6957094    0.        ]]\n",
      "[[-33.8, -17.8, 0.0], [-33.8, 17.8, 0.0], [-15.8, 2.2, 0.0], [-17.8, -7.8, 0.0], [-25.8, -2.8, 0.0]]\n"
     ]
    }
   ],
   "source": [
    "from sklearn import model_selection\n",
    "\n",
    "filename = 'pixels_qr_MLPRegressor_xyz.sav'\n",
    "joblib.dump(clf, filename)\n",
    "\n",
    "filename = 'pixels_qr_LinearRegressor_xyz.sav'\n",
    "joblib.dump(regr, filename)\n",
    "\n",
    "with timeit():\n",
    "    loaded_clf = joblib.load('pixels_qr_MLPRegressor_xyz.sav')\n",
    "    pred_clf = loaded_clf.predict(X_validate)\n",
    "print(pred_clf)    \n",
    "with timeit():\n",
    "    loaded_regr = joblib.load('pixels_qr_LinearRegressor_xyz.sav')\n",
    "    pred_regr = loaded_regr.predict(X_validate)\n",
    "print(pred_regr)    \n",
    "print(y_validate)"
   ]
  }
 ],
 "metadata": {
  "kernelspec": {
   "display_name": "Python 3",
   "language": "python",
   "name": "python3"
  },
  "language_info": {
   "codemirror_mode": {
    "name": "ipython",
    "version": 3
   },
   "file_extension": ".py",
   "mimetype": "text/x-python",
   "name": "python",
   "nbconvert_exporter": "python",
   "pygments_lexer": "ipython3",
   "version": "3.6.7"
  }
 },
 "nbformat": 4,
 "nbformat_minor": 2
}
